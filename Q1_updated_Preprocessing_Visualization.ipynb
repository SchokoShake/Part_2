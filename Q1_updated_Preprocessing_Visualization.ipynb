{
 "cells": [
  {
   "cell_type": "markdown",
   "id": "ad958d24",
   "metadata": {
    "collapsed": false
   },
   "source": [
    "# Introduction into Data Science - Assignment Part II\n",
    "\n",
    "This is the second part of the assignment in IDS 2023/2024.\n",
    "\n",
    "This part of the assignment consists of five questions — each of these questions is contained in a separate Jupyter notebook:\n",
    "- [Question 1: Data Preprocessing](Q1_Preprocessing_Visualization.ipynb)\n",
    "- [Question 2: Association Rules](Q2_Frequent_Itemsets_Association_Rules.ipynb)\n",
    "- [Question 3: Process Mining](Q3_Process_Mining.ipynb)\n",
    "- [Question 4: Text Mining](Q4_Text_Mining.ipynb)\n",
    "- [Question 5: Big Data](Q5_Big_Data.ipynb)\n",
    "\n",
    "Additional required files are in two folders.\n",
    "- [datasets](datasets/)\n",
    "- [scripts](scripts/)\n",
    "\n",
    "Please use the provided notebook to work on the questions. When you are done, upload your version of each of the notebooks to Moodle. Your submission will, therefore, consist of five jupyter notebook and _no_ additional file. Any additionally provided files will not be considered in grading.\n",
    "Enter your commented Python code and answers in the corresponding cells. Make sure to answer all questions in a clear and explicit manner and discuss your outputs. _Please do not change the general structure of this notebook_. You can, however, add additional markdown or code cells if necessary. Please **DO NOT CLEAR THE OUTPUT** of the notebook you are submitting! Additionally, please ensure that the code in the notebook runs if placed in the same folder as all of the provided files, delivering the same outputs as the ones you submit in the notebook. This includes being runnable in the bundled conda environment.\n",
    "\n",
    "*Please make sure to include the names and matriculation numbers of all group members in the provided slots in each of the notebooks.* If a name or a student id is missing, the student will not receive any points.\n",
    "\n",
    "Hint 1: **Plan your time wisely.** A few parts of this assignment may take some time to run. It might be necessary to consider time management when you plan your group work. Also, do not attempt to upload your assignment at the last minute before the deadline. This often does not work, and you will miss the deadline. Late submissions will not be considered.\n",
    "\n",
    "Hint 2: RWTHMoodle allows multiple submissions, with every new submission overwriting the previous one. **Partial submissions are possible and encouraged.** This might be helpful in case of technical issues with RWTHMoodle, which may occur close to the deadline.\n",
    "\n",
    "Hint 3: As a technical note. Some IDEs such as DataSpell may automatically strip jupyter notebook cell metadata. If you are able, please re-add it from the source notebooks before submission. This is necessary for our grading."
   ]
  },
  {
   "cell_type": "markdown",
   "id": "3ca872cb",
   "metadata": {},
   "source": [
    "Enter your group number and members with matriculation numbers below."
   ]
  },
  {
   "cell_type": "code",
   "execution_count": null,
   "id": "2508a0d1",
   "metadata": {
    "ExecuteTime": {
     "end_time": "2023-12-12T14:39:43.463127500Z",
     "start_time": "2023-12-12T14:39:43.450885200Z"
    }
   },
   "outputs": [],
   "source": [
    "GROUP_NO = 123 # group number\n",
    "GROUP_MEMBERS = {\n",
    "    123456: \"firstname lastname\", # mat. no. : name,\n",
    "    234567: \"firstname lastname\",\n",
    "    345678: \"firstname lastname\",\n",
    "}"
   ]
  },
  {
   "cell_type": "markdown",
   "id": "e48a0c55",
   "metadata": {},
   "source": [
    "---"
   ]
  },
  {
   "cell_type": "code",
   "execution_count": null,
   "id": "30acff93-801f-434f-ab12-538ebba149c7",
   "metadata": {
    "deletable": false,
    "editable": false,
    "nbgrader": {
     "cell_type": "code",
     "checksum": "73c24fac1b1f448bf5504f590af2db57",
     "grade": false,
     "grade_id": "cell-4a0bd5d0ff85f841",
     "locked": true,
     "schema_version": 3,
     "solution": false,
     "task": false
    },
    "slideshow": {
     "slide_type": ""
    },
    "tags": []
   },
   "outputs": [],
   "source": [
    "# required imports\n",
    "# do not edit!\n",
    "\n",
    "import pandas as pd\n",
    "import seaborn as sns\n",
    "import numpy as np\n",
    "import matplotlib.pyplot as plt\n",
    "from sklearn.preprocessing import StandardScaler\n",
    "from sklearn.impute import KNNImputer"
   ]
  },
  {
   "cell_type": "markdown",
   "id": "0d487223-5415-47c9-8034-4ac6668dd837",
   "metadata": {
    "deletable": false,
    "editable": false,
    "nbgrader": {
     "cell_type": "markdown",
     "checksum": "9a5ccf0b007c8702022ebcc6aebfdaf4",
     "grade": false,
     "grade_id": "cell-09bce189689fdf79",
     "locked": true,
     "schema_version": 3,
     "solution": false,
     "task": false
    },
    "slideshow": {
     "slide_type": ""
    },
    "tags": []
   },
   "source": [
    "# Question 1: Preprocessing and Visualization (19 Points)\n",
    "\n",
    "**About the Data: Heart Disease**\n",
    "\n",
    "In this task, our data (`q1_heart_disease.csv`) contains records related to the diagnosis of heart disease in patients. It includes various clinical and non-clinical attributes used to determine the presence or absence of heart disease. Columns cover aspects like patient demographics, vital signs, symptoms, and potential risk factors associated with heart conditions. See below a short description for each column.\n",
    "\n",
    "| Column         | Description                                                                                                                       |\n",
    "|----------------|-----------------------------------------------------------------------------------------------------------------------------------|\n",
    "| Age            | The age of the patient in years.                                                                                                  |\n",
    "| Sex            | The sex of the patient.                                                                                                           |\n",
    "| ChestPainType  | The type of chest pain (TA: Typical Angina, ATA: Atypical Angina, NAP: Non-Anginal Pain, ASY: Asymptomnic).                       |\n",
    "| RestingBP      | The resting blood pressure in millimeter of mercury [mmHg].                                                                       |\n",
    "| Cholesterol    | The cholesterol of the blood serum in milligrams per deciliter (mg/dl).                                                           |\n",
    "| FastingBS      | 1 if the blood sugar while fasting is above 120 mg/dl, 0 otherwise.                                                               |\n",
    "| RestingECG     | Results of the electrocardiogram when resting.                                                                                    |\n",
    "| MaxHR          | The maximum heart rate achieved while exercising.                                                                                 |\n",
    "| ExerciseAngina | If an Angina (pressure on chest) is inducible by exercising.                                                                      |\n",
    "| Oldpeak        | Numerical measure of the depression of the ST segment of electrocardiogram induced by exercise relative to rest.                  |\n",
    "| ST_Slope       | The slope of the peak exercise ST segment, where 0 corresponds to downsloping; 1 to a flat level, and 2 corresponds to upsloping. |\n",
    "| HeartDisease   | Heart disease being present or not.                                                                                               |"
   ]
  },
  {
   "cell_type": "markdown",
   "id": "a9cfeb67-3be6-4177-b107-a3855f665d83",
   "metadata": {
    "deletable": false,
    "editable": false,
    "nbgrader": {
     "cell_type": "markdown",
     "checksum": "5601887c2d28fc69cb14e7b9b07c7d0e",
     "grade": false,
     "grade_id": "cell-cadbb00abe70693d",
     "locked": true,
     "schema_version": 3,
     "solution": false,
     "task": false
    },
    "slideshow": {
     "slide_type": ""
    },
    "tags": []
   },
   "source": [
    "## Part I: Preprocessing (11 pts)\n",
    "\n",
    "### a)\n",
    "First things first. Import the file **q1_heart_disease.csv** and save it into a dataframe named `heart_df`. Visualize the dataframe by showing the first five lines. \n"
   ]
  },
  {
   "cell_type": "code",
   "execution_count": null,
   "id": "be5261d6-89cb-432d-8276-60b2629d4bb8",
   "metadata": {
    "deletable": false,
    "editable": true,
    "nbgrader": {
     "cell_type": "code",
     "checksum": "3d9d65a078b8bbce1b5279311288a9e1",
     "grade": true,
     "grade_id": "cell-1e846309ae3a3478",
     "locked": false,
     "points": 0.5,
     "schema_version": 3,
     "solution": true,
     "task": false
    },
    "slideshow": {
     "slide_type": ""
    },
    "tags": []
   },
   "outputs": [],
   "source": [
    "# Import and visualization.\n",
    "# YOUR CODE HERE"
   ]
  },
  {
   "cell_type": "markdown",
   "id": "b3100e1e-1a9f-4a20-9899-c4675194461e",
   "metadata": {
    "deletable": false,
    "editable": false,
    "nbgrader": {
     "cell_type": "markdown",
     "checksum": "5a97629fb895f6d368073073b4ac8be2",
     "grade": false,
     "grade_id": "cell-bcce870bc310f375",
     "locked": true,
     "schema_version": 3,
     "solution": false,
     "task": false
    }
   },
   "source": [
    "### b) \n",
    "i. Check the data types. Are there any data type problems (e.g., numerical columns having a non-numerical data type)?"
   ]
  },
  {
   "cell_type": "code",
   "execution_count": null,
   "id": "85dd748b-1329-433d-bd04-d66cf858dcf5",
   "metadata": {
    "deletable": false,
    "nbgrader": {
     "cell_type": "code",
     "checksum": "65d471b1d8e0d6662e2b65f919c98f6f",
     "grade": true,
     "grade_id": "cell-dd110b97dd2637eb",
     "locked": false,
     "points": 0.5,
     "schema_version": 3,
     "solution": true,
     "task": false
    }
   },
   "outputs": [],
   "source": [
    "# Visualizing data types\n",
    "# YOUR CODE HERE"
   ]
  },
  {
   "cell_type": "markdown",
   "id": "a4cf530c-2bcf-4795-94f2-3069f77b69d0",
   "metadata": {
    "deletable": false,
    "editable": false,
    "nbgrader": {
     "cell_type": "markdown",
     "checksum": "fab1f944df8b935d0e5cfa4b79adaf0a",
     "grade": false,
     "grade_id": "cell-468c3c504f465eb4",
     "locked": true,
     "schema_version": 3,
     "solution": false,
     "task": false
    }
   },
   "source": [
    "ii. Fix problems, if there are any data type problems. Further, improve categorical columns by setting them to the categorical type and translate boolean columns to boolean values."
   ]
  },
  {
   "cell_type": "code",
   "execution_count": null,
   "id": "a8bbe0f1-648e-4a83-a33f-93ff7dae2a2e",
   "metadata": {
    "deletable": false,
    "nbgrader": {
     "cell_type": "code",
     "checksum": "6c8981e94f2f3664f1e23d4930e32630",
     "grade": true,
     "grade_id": "cell-5cd1e69702e095d9",
     "locked": false,
     "points": 0,
     "schema_version": 3,
     "solution": true,
     "task": false
    }
   },
   "outputs": [],
   "source": [
    "# Fixing problems, if necessary\n",
    "# YOUR CODE HERE"
   ]
  },
  {
   "cell_type": "code",
   "execution_count": null,
   "id": "ea3a4796-58ea-4047-a370-10f266225eca",
   "metadata": {
    "deletable": false,
    "nbgrader": {
     "cell_type": "code",
     "checksum": "5a22b0dcf2b410b28ae5d3913b593348",
     "grade": true,
     "grade_id": "cell-19e642bad60f7407",
     "locked": false,
     "points": 0.5,
     "schema_version": 3,
     "solution": true,
     "task": false
    }
   },
   "outputs": [],
   "source": [
    "# Set categorical columns to categorial type.\n",
    "# YOUR CODE HERE"
   ]
  },
  {
   "cell_type": "code",
   "execution_count": null,
   "id": "71b5d3da-4550-4f9c-9390-ac01f0fcb1aa",
   "metadata": {
    "deletable": false,
    "nbgrader": {
     "cell_type": "code",
     "checksum": "ecaa534680209db3da26123a43fa20a0",
     "grade": true,
     "grade_id": "cell-deb43561afd8fe35",
     "locked": false,
     "points": 0.5,
     "schema_version": 3,
     "solution": true,
     "task": false
    }
   },
   "outputs": [],
   "source": [
    "# Translate boolean columns to boolean type\n",
    "# YOUR CODE HERE"
   ]
  },
  {
   "cell_type": "code",
   "execution_count": null,
   "id": "0af1df54-6a6d-4d49-8a9a-53bf76619b75",
   "metadata": {
    "deletable": false,
    "nbgrader": {
     "cell_type": "code",
     "checksum": "b7d9304e0d2677208525bad94474a147",
     "grade": true,
     "grade_id": "cell-dc64f088e07e5f0a",
     "locked": false,
     "points": 0,
     "schema_version": 3,
     "solution": true,
     "task": false
    }
   },
   "outputs": [],
   "source": [
    "# Checking again by visualizing data types\n",
    "# YOUR CODE HERE"
   ]
  },
  {
   "cell_type": "markdown",
   "id": "b50b0dac-2cbb-4724-89c7-f4d32a120ca2",
   "metadata": {
    "deletable": false,
    "editable": false,
    "nbgrader": {
     "cell_type": "markdown",
     "checksum": "d7e1ae4656d73c67b3b85206bfc3a7c7",
     "grade": false,
     "grade_id": "cell-cdaf2f32583611d5",
     "locked": true,
     "schema_version": 3,
     "solution": false,
     "task": false
    }
   },
   "source": [
    "### c)\n",
    "i. In this subtask, we start with a first evaluation of our data by checking the plausibility of some entries. To make sure that we do not have a clash between intended NaN values and existing NaN values in the dataset, we first remove all NaN values. Report the number of rows containing a NaN value."
   ]
  },
  {
   "cell_type": "code",
   "execution_count": null,
   "id": "896acfb0-96f6-4fad-8ad8-f62b15113e35",
   "metadata": {
    "deletable": false,
    "nbgrader": {
     "cell_type": "code",
     "checksum": "102baaa4334df9034ec33866bd7a9f3f",
     "grade": true,
     "grade_id": "cell-96435026fbd78569",
     "locked": false,
     "points": 0.5,
     "schema_version": 3,
     "solution": true,
     "task": false
    }
   },
   "outputs": [],
   "source": [
    "# YOUR CODE HERE"
   ]
  },
  {
   "cell_type": "markdown",
   "id": "ce27b5b0-4ab5-4ca5-91d0-88461248a473",
   "metadata": {
    "deletable": false,
    "editable": false,
    "nbgrader": {
     "cell_type": "markdown",
     "checksum": "3ddbb4c7823a7b8213bbe2f14fa32af4",
     "grade": false,
     "grade_id": "cell-3a8b20c7cd9b811c",
     "locked": true,
     "schema_version": 3,
     "solution": false,
     "task": false
    }
   },
   "source": [
    "ii. To check plausibility, create boxplots for all numerical features. Reason which features have invalid or missing values. Show and report such outliers. "
   ]
  },
  {
   "cell_type": "code",
   "execution_count": null,
   "id": "39ab10ff-15be-4dcd-bf0f-823944175ffc",
   "metadata": {
    "deletable": false,
    "nbgrader": {
     "cell_type": "code",
     "checksum": "c1bd8f2e904db07fce0d6f2e0f3f1673",
     "grade": true,
     "grade_id": "cell-90a5d6dafb079caa",
     "locked": false,
     "points": 1,
     "schema_version": 3,
     "solution": true,
     "task": false
    }
   },
   "outputs": [],
   "source": [
    "# Creating the boxplot and calculating outliers\n",
    "# YOUR CODE HERE"
   ]
  },
  {
   "cell_type": "markdown",
   "id": "bb3d9d43-88e1-496f-8c67-5c5a37879931",
   "metadata": {
    "deletable": false,
    "editable": false,
    "nbgrader": {
     "cell_type": "markdown",
     "checksum": "201424131d1c23921656feba5ef86272",
     "grade": false,
     "grade_id": "cell-b260dcf0dec01318",
     "locked": true,
     "schema_version": 3,
     "solution": false,
     "task": false
    }
   },
   "source": [
    "_Note: There may be more cells than what you may need for viewing and reporting the entries properly and nicely._"
   ]
  },
  {
   "cell_type": "code",
   "execution_count": null,
   "id": "7476f2e0-bd4e-48f7-81be-f313c20a642b",
   "metadata": {
    "deletable": false,
    "nbgrader": {
     "cell_type": "code",
     "checksum": "a1ba1876f1c6189d2f3339304784242e",
     "grade": true,
     "grade_id": "cell-13f8c444a6dc7023",
     "locked": false,
     "points": 0.5,
     "schema_version": 3,
     "solution": true,
     "task": false
    }
   },
   "outputs": [],
   "source": [
    "# Potential viewing and reporting of outlier entries\n",
    "# YOUR CODE HERE"
   ]
  },
  {
   "cell_type": "code",
   "execution_count": null,
   "id": "65588d72-5cf9-47a9-b144-144d02751203",
   "metadata": {
    "deletable": false,
    "nbgrader": {
     "cell_type": "code",
     "checksum": "ac9dc206684eaf7a5af03e7fed4d576d",
     "grade": true,
     "grade_id": "cell-d8f21c134a7a7a09",
     "locked": false,
     "points": 0.5,
     "schema_version": 3,
     "solution": true,
     "task": false
    }
   },
   "outputs": [],
   "source": [
    "# Potential viewing and reporting of outlier entries\n",
    "# YOUR CODE HERE"
   ]
  },
  {
   "cell_type": "code",
   "execution_count": null,
   "id": "1d4da6cf-ec6d-46a5-8f12-5aa95df32224",
   "metadata": {
    "deletable": false,
    "nbgrader": {
     "cell_type": "code",
     "checksum": "94974a793a5b73cf8adce1438c7be09e",
     "grade": true,
     "grade_id": "cell-e8ec33e78132ae2e",
     "locked": false,
     "points": 0.5,
     "schema_version": 3,
     "solution": true,
     "task": false
    }
   },
   "outputs": [],
   "source": [
    "# Potential viewing and reporting of outlier entries\n",
    "# YOUR CODE HERE"
   ]
  },
  {
   "cell_type": "code",
   "execution_count": null,
   "id": "d75553f2-b59a-4d82-bc8b-f40a2f29d83b",
   "metadata": {
    "deletable": false,
    "nbgrader": {
     "cell_type": "code",
     "checksum": "6f7f626505d6fd8ee319e250bc534f54",
     "grade": true,
     "grade_id": "cell-7afcf89a1c913b07",
     "locked": false,
     "points": 0,
     "schema_version": 3,
     "solution": true,
     "task": false
    }
   },
   "outputs": [],
   "source": [
    "# Potential viewing and reporting of outlier entries\n",
    "# YOUR CODE HERE"
   ]
  },
  {
   "cell_type": "markdown",
   "id": "30d09c1b-8d9b-43d5-bb98-4da3b64ad0d9",
   "metadata": {
    "deletable": false,
    "editable": false,
    "nbgrader": {
     "cell_type": "markdown",
     "checksum": "f76010b697044b26a7228e9bb63e2675",
     "grade": false,
     "grade_id": "cell-0e461e7a68f8e3b5",
     "locked": true,
     "schema_version": 3,
     "solution": false,
     "task": false
    }
   },
   "source": [
    "iii. Decide and briefly reason which entries can be kept such that some values can be imputed later and which entries have to be deleted. Apply the preprocessing by either deleting entries or by replacing values that should be imputed by setting their value to NaN respectively. Report for both processings how many entries are effected."
   ]
  },
  {
   "cell_type": "markdown",
   "id": "884bd214-388b-4986-ab74-2165f7f1a84f",
   "metadata": {
    "deletable": false,
    "nbgrader": {
     "cell_type": "markdown",
     "checksum": "88c067e32a8fde5329f6e2ddb2194d4d",
     "grade": true,
     "grade_id": "cell-75dde8dd81f30b16",
     "locked": false,
     "points": 0.5,
     "schema_version": 3,
     "solution": true,
     "task": false
    }
   },
   "source": [
    "__Student Answer:__ _your answer goes here_"
   ]
  },
  {
   "cell_type": "code",
   "execution_count": null,
   "id": "e383beba-9291-474a-ba70-f14541d0d186",
   "metadata": {
    "deletable": false,
    "nbgrader": {
     "cell_type": "code",
     "checksum": "f6aa3fffd13ae5e649e14acbd3c12594",
     "grade": true,
     "grade_id": "cell-56a97b1b78678088",
     "locked": false,
     "points": 0.5,
     "schema_version": 3,
     "solution": true,
     "task": false
    }
   },
   "outputs": [],
   "source": [
    "# Potential removing of outliers, reporting their number, and showing of the resulting dataframe\n",
    "# YOUR CODE HERE"
   ]
  },
  {
   "cell_type": "code",
   "execution_count": null,
   "id": "730d7269-4a06-48e1-b611-19066cadaed9",
   "metadata": {
    "deletable": false,
    "nbgrader": {
     "cell_type": "code",
     "checksum": "02865c458df68927e7b9bbe83f61bc20",
     "grade": true,
     "grade_id": "cell-84b67c2c9c9cbf39",
     "locked": false,
     "points": 0.5,
     "schema_version": 3,
     "solution": true,
     "task": false
    }
   },
   "outputs": [],
   "source": [
    "# Potential replacing of values with NaN, reporting their number, and showing of the resulting dataframe\n",
    "# YOUR CODE HERE"
   ]
  },
  {
   "cell_type": "markdown",
   "id": "da62e73b-4094-4414-9698-5e6991b4574b",
   "metadata": {
    "deletable": false,
    "editable": false,
    "nbgrader": {
     "cell_type": "markdown",
     "checksum": "018badd0e6ecbebd23d584fe93ebf803",
     "grade": false,
     "grade_id": "cell-e86c25a07dc39d69",
     "locked": true,
     "schema_version": 3,
     "solution": false,
     "task": false
    }
   },
   "source": [
    "iv. To give yourself a better insight, plot the resulting dataframe again using boxplots."
   ]
  },
  {
   "cell_type": "code",
   "execution_count": null,
   "id": "efcc2af9-430b-45b6-a8f0-ab605f66202a",
   "metadata": {
    "deletable": false,
    "nbgrader": {
     "cell_type": "code",
     "checksum": "957981074e224eaa019403154aa14b86",
     "grade": true,
     "grade_id": "cell-6903e5b87789d25a",
     "locked": false,
     "points": 0.5,
     "schema_version": 3,
     "solution": true,
     "task": false
    }
   },
   "outputs": [],
   "source": [
    "# Creating a boxplot\n",
    "# YOUR CODE HERE"
   ]
  },
  {
   "cell_type": "markdown",
   "id": "e2da45f0-f503-4f0d-af96-6cdceaad5d7c",
   "metadata": {
    "deletable": false,
    "editable": false,
    "nbgrader": {
     "cell_type": "markdown",
     "checksum": "1f8832e21733d2accb7c24b324b5ddf3",
     "grade": false,
     "grade_id": "cell-47ac84a9f480a31e",
     "locked": true,
     "schema_version": 3,
     "solution": false,
     "task": false
    }
   },
   "source": [
    "### d)\n",
    "In this task, we apply one-hot encoding for all categorical and all boolean features. This is used later for visualization. Afterwards, show the resulting dataframe."
   ]
  },
  {
   "cell_type": "code",
   "execution_count": null,
   "id": "92952f26-bb2b-47ed-8ac9-bf3418e103ab",
   "metadata": {
    "deletable": false,
    "nbgrader": {
     "cell_type": "code",
     "checksum": "78fad0692c57d440623667096f49bf63",
     "grade": true,
     "grade_id": "cell-43030067d42e17a5",
     "locked": false,
     "points": 1,
     "schema_version": 3,
     "solution": true,
     "task": false
    }
   },
   "outputs": [],
   "source": [
    "# Replacing categorical and boolean features with one-hot encoded columns\n",
    "# YOUR CODE HERE"
   ]
  },
  {
   "attachments": {
    "50d94b8e-115b-4e6e-bcfc-ae7fb0f4708a.jpg": {
     "image/jpeg": "[encoded data removed]"
    }
   },
   "cell_type": "markdown",
   "id": "c778ada4-38a0-47e8-babd-0c7872c59e4a",
   "metadata": {
    "deletable": false,
    "editable": false,
    "nbgrader": {
     "cell_type": "markdown",
     "checksum": "4e848a711c6a8a26bb95ba41fa06f998",
     "grade": false,
     "grade_id": "cell-63c687eaadaeb90e",
     "locked": true,
     "schema_version": 3,
     "solution": false,
     "task": false
    }
   },
   "source": [
    "### e)\n",
    "i. In this task, we want to impute missing values based on their k-nearest neighbor. Therefore, as a first step, create a reduced dataframe that contains the column(s) with missing values and with columns that correlate with the missing value. To decide which features (weakly) correlate, consider the correlation matrix in the figure below that is taken from literature (Source: https://www.ncbi.nlm.nih.gov/pmc/articles/PMC10417090/). Consider all features that have an absolute value for the correlation coefficient of at least 0.1 with the missing value.\n",
    "\n",
    "![diagnostics-13-02540-g006.jpg](attachment:50d94b8e-115b-4e6e-bcfc-ae7fb0f4708a.jpg)\n",
    "\n",
    "Figure 1: Correlation matrix between different features from Literature. (Source: https://www.ncbi.nlm.nih.gov/pmc/articles/PMC10417090/)"
   ]
  },
  {
   "cell_type": "code",
   "execution_count": null,
   "id": "f92df44e-34d0-4026-a681-7753949c110b",
   "metadata": {
    "deletable": false,
    "nbgrader": {
     "cell_type": "code",
     "checksum": "2dcb7cce40ef9992427299b6ef5637a2",
     "grade": true,
     "grade_id": "cell-bf813ac425788c54",
     "locked": false,
     "points": 0.5,
     "schema_version": 3,
     "solution": true,
     "task": false
    }
   },
   "outputs": [],
   "source": [
    "# Creating a dataframe with the values to be imputed and the correlating columns\n",
    "# YOUR CODE HERE"
   ]
  },
  {
   "cell_type": "markdown",
   "id": "32f4a036-a971-4003-9e83-138f9f672f67",
   "metadata": {
    "deletable": false,
    "nbgrader": {
     "cell_type": "markdown",
     "checksum": "216d01798d6cd45f10570bc81fd17250",
     "grade": true,
     "grade_id": "cell-a3309169a1aa9185",
     "locked": false,
     "points": 0.5,
     "schema_version": 3,
     "solution": true,
     "task": false
    }
   },
   "source": [
    "__Student Answer:__ _your answer goes here_"
   ]
  },
  {
   "cell_type": "markdown",
   "id": "926715f4-b86f-4733-b715-e0992f8a64e3",
   "metadata": {
    "deletable": false,
    "editable": false,
    "nbgrader": {
     "cell_type": "markdown",
     "checksum": "1a26313f5820ec8826f81919ffdc32a5",
     "grade": false,
     "grade_id": "cell-8035552e689f0b3c",
     "locked": true,
     "schema_version": 3,
     "solution": false,
     "task": false
    }
   },
   "source": [
    "ii. Next, use k-nearest neighbor imputation with $k = 5$. Impute the missing values. Update the dataframe `heart_df`."
   ]
  },
  {
   "cell_type": "code",
   "execution_count": null,
   "id": "1b900145-c96c-48f9-a847-79995c199bd0",
   "metadata": {
    "deletable": false,
    "nbgrader": {
     "cell_type": "code",
     "checksum": "5be27795525ea7ce94540fe3f504a1a9",
     "grade": true,
     "grade_id": "cell-a51fe299903698cb",
     "locked": false,
     "points": 0.5,
     "schema_version": 3,
     "solution": true,
     "task": false
    }
   },
   "outputs": [],
   "source": [
    "# Applying k-nearest neighbor imputation\n",
    "# YOUR CODE HERE"
   ]
  },
  {
   "cell_type": "code",
   "execution_count": null,
   "id": "33872632-b965-4bdd-b781-81ba0b9803f9",
   "metadata": {
    "deletable": false,
    "nbgrader": {
     "cell_type": "code",
     "checksum": "3736b5b33b1503e704dee7244dc272b3",
     "grade": true,
     "grade_id": "cell-a3394c9eaca70b3b",
     "locked": false,
     "points": 0.5,
     "schema_version": 3,
     "solution": true,
     "task": false
    }
   },
   "outputs": [],
   "source": [
    "# Updating the imputed column(s)\n",
    "# YOUR CODE HERE"
   ]
  },
  {
   "cell_type": "markdown",
   "id": "e3b5a49f-431a-4f0d-b534-73a0f6169547",
   "metadata": {
    "deletable": false,
    "editable": false,
    "nbgrader": {
     "cell_type": "markdown",
     "checksum": "ee69ae0a072e98a6548a5f9ac63b767b",
     "grade": false,
     "grade_id": "cell-069ca04828f8db3a",
     "locked": true,
     "schema_version": 3,
     "solution": false,
     "task": false
    }
   },
   "source": [
    "## Part II: Advanced Visualization (8 pts)"
   ]
  },
  {
   "cell_type": "markdown",
   "id": "e765942e-7a6d-4b42-8c24-d03ac875162a",
   "metadata": {},
   "source": [
    "In this question, we continue using the preprocessed data from Part I."
   ]
  },
  {
   "cell_type": "markdown",
   "id": "7f6b4b27-6eb5-41c1-b0cb-d9908d86048c",
   "metadata": {
    "deletable": false,
    "editable": false,
    "nbgrader": {
     "cell_type": "markdown",
     "checksum": "5752342504f01aaa024cec9883e4ce8c",
     "grade": false,
     "grade_id": "cell-4935b528ee2cca19",
     "locked": true,
     "schema_version": 3,
     "solution": false,
     "task": false
    }
   },
   "source": [
    "### a)\n",
    "In this task, visualize the relation by plotting each pair of numerical features. Visualize the instances in the pairplots of those individuals that have and that do not have heart disease."
   ]
  },
  {
   "cell_type": "code",
   "execution_count": null,
   "id": "99a7b1e1-4e10-4dda-967c-49d7abaa9b1e",
   "metadata": {
    "deletable": false,
    "nbgrader": {
     "cell_type": "code",
     "checksum": "5c0ddfcf336eb2a23fbc8a90fb16842d",
     "grade": true,
     "grade_id": "cell-0fc0a3137e800377",
     "locked": false,
     "points": 1,
     "schema_version": 3,
     "solution": true,
     "task": false
    }
   },
   "outputs": [],
   "source": [
    "# Visualizing the relation between the numerical values using a pairplot, where the entries are classified by whether a heart disease is present \n",
    "# YOUR CODE HERE"
   ]
  },
  {
   "cell_type": "markdown",
   "id": "029dd35d-b82d-48dc-9061-babc7ee63d4d",
   "metadata": {
    "deletable": false,
    "editable": false,
    "nbgrader": {
     "cell_type": "markdown",
     "checksum": "f50299ec00bd8bed4bc909aec1384eea",
     "grade": false,
     "grade_id": "cell-3dcdfb25c70b12a3",
     "locked": true,
     "schema_version": 3,
     "solution": false,
     "task": false
    }
   },
   "source": [
    "### b)\n",
    "i. Having the pairplot, we are interested in more details on the relation between the age of a patient and maximum heart rate. Therefore, create plot that shows the regression line between both features."
   ]
  },
  {
   "cell_type": "code",
   "execution_count": null,
   "id": "f8a17e81-c745-4939-994d-b99fa608207b",
   "metadata": {
    "deletable": false,
    "nbgrader": {
     "cell_type": "code",
     "checksum": "8e41b7bb9f209641a3429019b18a979e",
     "grade": true,
     "grade_id": "cell-4d0f56a894c1431d",
     "locked": false,
     "points": 1,
     "schema_version": 3,
     "solution": true,
     "task": false
    }
   },
   "outputs": [],
   "source": [
    "# Plotting age and maximum heart rate with regression line\n",
    "# YOUR CODE HERE"
   ]
  },
  {
   "cell_type": "markdown",
   "id": "66926f1d-c385-4e84-b8e9-65097dfdb8ca",
   "metadata": {
    "deletable": false,
    "editable": false,
    "nbgrader": {
     "cell_type": "markdown",
     "checksum": "3ca4732b3f5aaa51d1858e6b588bf8da",
     "grade": false,
     "grade_id": "cell-3997df9445f476c6",
     "locked": true,
     "schema_version": 3,
     "solution": false,
     "task": false
    }
   },
   "source": [
    "ii. Given our evaluation from task b-i), we are not sure if Simpson's Paradox occurs or not. Give some short reasoning, and if needed, do some experiment to check whether Simpson's Paradox occurs."
   ]
  },
  {
   "cell_type": "code",
   "execution_count": null,
   "id": "6362f7c4-e054-473c-af69-d47c3bea43b0",
   "metadata": {
    "deletable": false,
    "nbgrader": {
     "cell_type": "code",
     "checksum": "eec1283e6ce3f79c1f7c8a043a5855e5",
     "grade": true,
     "grade_id": "cell-960cd7ef03027740",
     "locked": false,
     "points": 0.5,
     "schema_version": 3,
     "solution": true,
     "task": false
    }
   },
   "outputs": [],
   "source": [
    "# Potential code for Simpson's Paradox testing\n",
    "# YOUR CODE HERE"
   ]
  },
  {
   "cell_type": "code",
   "execution_count": null,
   "id": "7d5d8f9d-c5a0-47c5-8222-6e7f10d04c39",
   "metadata": {
    "deletable": false,
    "nbgrader": {
     "cell_type": "code",
     "checksum": "7709829e6a99f0dc88a5a34aa1bb57c9",
     "grade": true,
     "grade_id": "cell-1d5269870d9480aa",
     "locked": false,
     "points": 0.5,
     "schema_version": 3,
     "solution": true,
     "task": false
    }
   },
   "outputs": [],
   "source": [
    "# Potential code for Simpson's Paradox testing\n",
    "# YOUR CODE HERE"
   ]
  },
  {
   "cell_type": "markdown",
   "id": "4dc51175-413c-4333-9dc5-47c8bf7c6270",
   "metadata": {
    "deletable": false,
    "nbgrader": {
     "cell_type": "markdown",
     "checksum": "1628393d3882f9f3c212959fd8ab5a74",
     "grade": true,
     "grade_id": "cell-c1b9f36f51666d65",
     "locked": false,
     "points": 2,
     "schema_version": 3,
     "solution": true,
     "task": false
    }
   },
   "source": [
    "__Student Answer:__ _your answer goes here_"
   ]
  },
  {
   "cell_type": "markdown",
   "id": "6e07f5ba-2cf9-4620-b3d0-fd2f0379d62b",
   "metadata": {
    "deletable": false,
    "editable": false,
    "nbgrader": {
     "cell_type": "markdown",
     "checksum": "9775ada34e8d24ec4f9b45f40220dbcf",
     "grade": false,
     "grade_id": "cell-fa8d79cc3566e766",
     "locked": true,
     "schema_version": 3,
     "solution": false,
     "task": false
    }
   },
   "source": [
    "### c)\n",
    "In this task, we want to obtain a deeper understanding of the characteristics of each state of the former categorical or boolean features. Therefore, we create a heatmap that can be used to get a first impression of which value of which feature correlates with each other feature. \n",
    "\n",
    "i. Create a dataframe that contains as its columns the feature states and as its index all the column names of `heart_df`. Each entry is the sum of entries that have such a combination of features being true for the one-hot encoded features. For example, given the entries:\n",
    "| ID | Feature1_True | Feature1_False | Feature2_StateA | Feature2_StateB | Feature2_StateC | Feature3_StateA | Feature3_StateB |\n",
    "|----|---------------|----------------|-----------------|-----------------|-----------------|-----------------|-----------------|\n",
    "| 1  | True          | False          | True            | False           | False           | True            | False           |\n",
    "| 2  | True          | False          | False           | True            | False           | True            | False           |\n",
    "| 3  | False         | True           | False           | True            | False           | True            | False           |\n",
    "\n",
    "In this example, we would obtain the following entries as a result:\n",
    "\n",
    "|                 | Feature1_True | Feature1_False | Feature2_StateA | Feature2_StateB | Feature2_StateC | Feature3_StateA | Feature3_StateB |\n",
    "|-----------------|---------------|----------------|-----------------|-----------------|-----------------|-----------------|-----------------|\n",
    "| Feature1_True   | 2             | 0              | 1               | 1               | 0               | 2               | 0               |\n",
    "| Feature1_False  | 0             | 1              | 0               | 1               | 0               | 1               | 0               |\n",
    "| Feature2_StateA | 1             | 0              | 1               | 0               | 0               | 1               | 0               |\n",
    "| Feature2_StateB | 1             | 1              | 0               | 2               | 0               | 2               | 0               |\n",
    "| Feature2_StateC | 0             | 0              | 0               | 0               | 0               | 0               | 0               |\n",
    "| Feature3_StateA | 2             | 1              | 1               | 2               | 0               | 3               | 0               |\n",
    "| Feature3_StateB | 0             | 0              | 0               | 0               | 0               | 0               | 0               |"
   ]
  },
  {
   "cell_type": "code",
   "execution_count": null,
   "id": "819efb16-41d1-4c00-ab86-77b7e1c00c97",
   "metadata": {
    "deletable": false,
    "nbgrader": {
     "cell_type": "code",
     "checksum": "da1cdd330070de825acc3f8b13f2f6f6",
     "grade": true,
     "grade_id": "cell-078e652add13e182",
     "locked": false,
     "points": 2,
     "schema_version": 3,
     "solution": true,
     "task": false
    }
   },
   "outputs": [],
   "source": [
    "# Creating the data for the heatmap.\n",
    "# YOUR CODE HERE"
   ]
  },
  {
   "cell_type": "markdown",
   "id": "912767c1-0e79-472f-8dab-604a9f89f2f0",
   "metadata": {
    "deletable": false,
    "editable": false,
    "nbgrader": {
     "cell_type": "markdown",
     "checksum": "39cdaf650a3ee36941909dddc6687911",
     "grade": false,
     "grade_id": "cell-1e67cf7405b5bbca",
     "locked": true,
     "schema_version": 3,
     "solution": false,
     "task": false
    }
   },
   "source": [
    "ii. Next, create the heatmap based on the data from the last subtask. If necessary, improve readability of the visualization."
   ]
  },
  {
   "cell_type": "code",
   "execution_count": null,
   "id": "ebc18451-c298-496a-92cb-5d712a969c4f",
   "metadata": {
    "deletable": false,
    "nbgrader": {
     "cell_type": "code",
     "checksum": "708ba7d27d54bca627910202797feef6",
     "grade": true,
     "grade_id": "cell-87412dfbb4d0f48e",
     "locked": false,
     "points": 1,
     "schema_version": 3,
     "solution": true,
     "task": false
    }
   },
   "outputs": [],
   "source": [
    "# Visualizing the obtained heatmap\n",
    "# YOUR CODE HERE"
   ]
  },
  {
   "cell_type": "markdown",
   "id": "413cd6ed-cb85-4f57-bf7c-27ae276e5a24",
   "metadata": {
    "deletable": false,
    "editable": false,
    "nbgrader": {
     "cell_type": "markdown",
     "checksum": "c798b3c11c7c5e30cf81d8c21a61dd51",
     "grade": false,
     "grade_id": "cell-aabec5d08bce029f",
     "locked": true,
     "schema_version": 3,
     "solution": false,
     "task": false
    }
   },
   "source": [
    "Given the heatmap, briefly derive some insights towards the different values of a feature. I.e., you may choose a heart disease being present or not and argue about what correlates for the other features for each value."
   ]
  },
  {
   "cell_type": "markdown",
   "id": "790edfef-9894-44c1-9588-8d438409e9ed",
   "metadata": {
    "deletable": false,
    "nbgrader": {
     "cell_type": "markdown",
     "checksum": "290628d81bc003b8a170a817f38d7dad",
     "grade": true,
     "grade_id": "cell-b2262acaf4adebad",
     "locked": false,
     "points": 1,
     "schema_version": 3,
     "solution": true,
     "task": false
    }
   },
   "source": [
    "__Student Answer:__ _your answer goes here_"
   ]
  }
 ],
 "metadata": {
  "kernelspec": {
   "display_name": "Python 3 (ipykernel)",
   "language": "python",
   "name": "python3"
  },
  "language_info": {
   "codemirror_mode": {
    "name": "ipython",
    "version": 3
   },
   "file_extension": ".py",
   "mimetype": "text/x-python",
   "name": "python",
   "nbconvert_exporter": "python",
   "pygments_lexer": "ipython3",
   "version": "3.11.3"
  }
 },
 "nbformat": 4,
 "nbformat_minor": 5
}
