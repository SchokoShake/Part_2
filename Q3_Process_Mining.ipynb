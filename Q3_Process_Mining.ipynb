{
 "cells": [
  {
   "cell_type": "markdown",
   "id": "45a049de",
   "metadata": {
    "collapsed": false
   },
   "source": [
    "# Introduction into Data Science - Assignment Part II\n",
    "\n",
    "This is the second part of the assignment in IDS 2023/2024.\n",
    "\n",
    "This part of the assignment consists of five questions — each of these questions is contained in a separate Jupyter notebook:\n",
    "- [Question 1: Data Preprocessing](Q1_Preprocessing_Visualization.ipynb)\n",
    "- [Question 2: Association Rules](Q2_Frequent_Itemsets_Association_Rules.ipynb)\n",
    "- [Question 3: Process Mining](Q3_Process_Mining.ipynb)\n",
    "- [Question 4: Text Mining](Q4_Text_Mining.ipynb)\n",
    "- [Question 5: Big Data](Q5_Big_Data.ipynb)\n",
    "\n",
    "Additional required files are in two folders.\n",
    "- [datasets](datasets/)\n",
    "- [scripts](scripts/)\n",
    "\n",
    "Please use the provided notebook to work on the questions. When you are done, upload your version of each of the notebooks to Moodle. Your submission will, therefore, consist of five jupyter notebook and _no_ additional file. Any additionally provided files will not be considered in grading.\n",
    "Enter your commented Python code and answers in the corresponding cells. Make sure to answer all questions in a clear and explicit manner and discuss your outputs. _Please do not change the general structure of this notebook_. You can, however, add additional markdown or code cells if necessary. Please **DO NOT CLEAR THE OUTPUT** of the notebook you are submitting! Additionally, please ensure that the code in the notebook runs if placed in the same folder as all of the provided files, delivering the same outputs as the ones you submit in the notebook. This includes being runnable in the bundled conda environment.\n",
    "\n",
    "*Please make sure to include the names and matriculation numbers of all group members in the provided slots in each of the notebooks.* If a name or a student id is missing, the student will not receive any points.\n",
    "\n",
    "Hint 1: **Plan your time wisely.** A few parts of this assignment may take some time to run. It might be necessary to consider time management when you plan your group work. Also, do not attempt to upload your assignment at the last minute before the deadline. This often does not work, and you will miss the deadline. Late submissions will not be considered.\n",
    "\n",
    "Hint 2: RWTHMoodle allows multiple submissions, with every new submission overwriting the previous one. **Partial submissions are possible and encouraged.** This might be helpful in case of technical issues with RWTHMoodle, which may occur close to the deadline.\n",
    "\n",
    "Hint 3: As a technical note. Some IDEs such as DataSpell may automatically strip jupyter notebook cell metadata. If you are able, please re-add it from the source notebooks before submission. This is necessary for our grading."
   ]
  },
  {
   "cell_type": "markdown",
   "id": "56682b7f",
   "metadata": {},
   "source": [
    "Enter your group number and members with matriculation numbers below."
   ]
  },
  {
   "cell_type": "code",
   "execution_count": 2,
   "id": "459cd420",
   "metadata": {
    "ExecuteTime": {
     "end_time": "2023-12-12T14:39:43.463127500Z",
     "start_time": "2023-12-12T14:39:43.450885200Z"
    }
   },
   "outputs": [],
   "source": [
    "GROUP_NO = 112 # group number\n",
    "GROUP_MEMBERS = {\n",
    "    451963: \"Paul Väthjunker\", # mat. no. : name,\n",
    "    413004: \"Touyen Nguyenova\"\n",
    "}"
   ]
  },
  {
   "cell_type": "markdown",
   "id": "818bf893",
   "metadata": {},
   "source": [
    "---"
   ]
  },
  {
   "cell_type": "code",
   "execution_count": 3,
   "id": "f7f49eed-f3e6-49fa-9883-110e4292336a",
   "metadata": {
    "ExecuteTime": {
     "end_time": "2023-12-18T07:18:58.688863900Z",
     "start_time": "2023-12-18T07:18:55.000792900Z"
    },
    "deletable": false,
    "editable": false,
    "nbgrader": {
     "cell_type": "code",
     "checksum": "f9b3376fed93ef27fd601af86cb7f2f2",
     "grade": false,
     "grade_id": "cell-0917cb95176df237",
     "locked": true,
     "schema_version": 3,
     "solution": false,
     "task": false
    }
   },
   "outputs": [],
   "source": [
    "# required imports\n",
    "# please do not edit!\n",
    "import pandas as pd\n",
    "import pm4py\n",
    "import numpy as np\n",
    "import matplotlib.pyplot as plt\n",
    "from IPython.display import display"
   ]
  },
  {
   "cell_type": "markdown",
   "id": "9f3930c1130ebf55",
   "metadata": {
    "collapsed": false,
    "deletable": false,
    "editable": false,
    "jupyter": {
     "outputs_hidden": false
    },
    "nbgrader": {
     "cell_type": "markdown",
     "checksum": "f0f894babe3be2114c234e53b1ccc836",
     "grade": false,
     "grade_id": "cell-0c41981542fa1433",
     "locked": true,
     "schema_version": 3,
     "solution": false,
     "task": false
    }
   },
   "source": [
    "# Process Mining (23 points)\n",
    "Your \"Introduction into Data Science\" course at the PADS chair has made you curious about Process Mining. \n",
    "You decide that you want to get a deeper understanding of the learned concepts. To do so, you use PM4Py - the documentation of this library can be found at: [PM4Py documentation](https://pm4py.fit.fraunhofer.de/static/assets/api/2.7.5/api.html)"
   ]
  },
  {
   "cell_type": "markdown",
   "id": "c49fc5b6-65b1-4654-8334-7b15b1ebcf5a",
   "metadata": {
    "deletable": false,
    "editable": false,
    "nbgrader": {
     "cell_type": "markdown",
     "checksum": "1ade496bc5653662a9e873c086b9d910",
     "grade": false,
     "grade_id": "cell-509961347146dde0",
     "locked": true,
     "schema_version": 3,
     "solution": false,
     "task": false
    }
   },
   "source": [
    "## Part I: Implementation of Core Concepts (8 points)\n",
    "\n",
    "You find an event log describing how the individual groups of the second part of the IDS Assignment two years ago approached the tasks, as a CSV file called **event_log_pt1.csv**. \n",
    "Your friend points out that this seems like an ideal log to implement the things you learned in lecture on an easy-to-understand log."
   ]
  },
  {
   "cell_type": "markdown",
   "id": "9e9b6884-db90-40ed-ad83-66e4fef09f74",
   "metadata": {
    "deletable": false,
    "editable": false,
    "nbgrader": {
     "cell_type": "markdown",
     "checksum": "ce12338872fb5e44edc8a8524c36a671",
     "grade": false,
     "grade_id": "cell-8603f5fd1f87d0f9",
     "locked": true,
     "points": 0,
     "schema_version": 3,
     "solution": false,
     "task": true
    }
   },
   "source": [
    "#### a)\n",
    "You begin by loading the event log into a variable called `log_groups`. \n",
    "The event log should be imported as a pandas dataframe which is a PM4Py suitable data format and compute the following variables:\n",
    "* `case_count`: How many groups took Part II of the assignment in Wintersemester 2021/2022?\n",
    "* `activity_count`: How many unique activities were logged? \n",
    "\n"
   ]
  },
  {
   "cell_type": "code",
   "execution_count": 6,
   "id": "1359e8deacd94fe7",
   "metadata": {
    "ExecuteTime": {
     "end_time": "2023-12-18T07:19:02.749521100Z",
     "start_time": "2023-12-18T07:19:02.691987600Z"
    },
    "deletable": false,
    "jupyter": {
     "outputs_hidden": false
    },
    "nbgrader": {
     "cell_type": "code",
     "checksum": "9080d01a18798fd0ff437d074f4533d4",
     "grade": true,
     "grade_id": "cell-449c53e3dc45368e",
     "locked": false,
     "points": 2,
     "schema_version": 3,
     "solution": true,
     "task": false
    }
   },
   "outputs": [
    {
     "name": "stdout",
     "output_type": "stream",
     "text": [
      "Case count:  516\n",
      "Activity count:  8\n"
     ]
    },
    {
     "name": "stderr",
     "output_type": "stream",
     "text": [
      "/Users/paulvaethjunker/miniconda3/envs/env-ids-ws23/lib/python3.9/site-packages/pm4py/utils.py:536: UserWarning: the EventLog class has been deprecated and will be removed in a future release.\n",
      "  warnings.warn(\"the EventLog class has been deprecated and will be removed in a future release.\")\n"
     ]
    }
   ],
   "source": [
    "# YOUR CODE HERE\n",
    "log_groups = pd.read_csv(\"datasets/q3_event_log_pt1.csv\")\n",
    "log_groups = pm4py.format_dataframe(log_groups, case_id='Group Number', activity_key='Activity', timestamp_key='Timestamp')\n",
    "\n",
    "\n",
    "case_count=len(log_groups[\"Group Number\"].unique())\n",
    "print(\"Case count: \",case_count)\n",
    "activity_count=len(log_groups[\"Activity\"].unique())\n",
    "print(\"Activity count: \",activity_count)\n",
    "\n"
   ]
  },
  {
   "cell_type": "markdown",
   "id": "27830baa-f416-4df3-aacf-f3af0f26ae0e",
   "metadata": {
    "deletable": false,
    "editable": false,
    "nbgrader": {
     "cell_type": "markdown",
     "checksum": "b88354d508ebc9844f97403276b6d2dc",
     "grade": false,
     "grade_id": "cell-dcfc7459e0cadbe8",
     "locked": true,
     "points": 0,
     "schema_version": 3,
     "solution": false,
     "task": true
    }
   },
   "source": [
    "Given the low number of activities, you decide to plot the directly-follows graph and manually detect the first cut the Inductive Miner would apply.\n",
    "\n",
    "#### b)\n",
    "Use PM4Py to create the directly follows graph, using `dfg` as variable name for the graph structure, `start_act` as variable name for the start activities, and `end_act` for the final activities. Show the directly-follows graph.\n"
   ]
  },
  {
   "cell_type": "code",
   "execution_count": 18,
   "id": "1403fc9fc8847f9c",
   "metadata": {
    "ExecuteTime": {
     "end_time": "2023-12-18T06:29:56.541779200Z",
     "start_time": "2023-12-18T06:29:52.997363500Z"
    },
    "deletable": false,
    "jupyter": {
     "outputs_hidden": false
    },
    "nbgrader": {
     "cell_type": "code",
     "checksum": "6173c7be7ff64930d8f0a4d9e20d09a0",
     "grade": true,
     "grade_id": "cell-b725648564efa3a5",
     "locked": false,
     "points": 2,
     "schema_version": 3,
     "solution": true,
     "task": false
    }
   },
   "outputs": [
    {
     "data": {
      "image/png": "[encoded data removed]",
      "text/plain": [
       "<IPython.core.display.Image object>"
      ]
     },
     "metadata": {},
     "output_type": "display_data"
    }
   ],
   "source": [
    "# YOUR CODE HERE\n",
    "dfg, start_act, end_act = pm4py.discover_dfg_typed(log_groups)\n",
    "pm4py.view_dfg(dfg=dfg, start_activities=start_act, end_activities=end_act)"
   ]
  },
  {
   "cell_type": "markdown",
   "id": "36369ef11c65ea06",
   "metadata": {
    "collapsed": false,
    "deletable": false,
    "editable": false,
    "jupyter": {
     "outputs_hidden": false
    },
    "nbgrader": {
     "cell_type": "markdown",
     "checksum": "e8fc6a295e03319aa435f6e0b45e23e9",
     "grade": false,
     "grade_id": "cell-b1e3e57ca23c628a",
     "locked": true,
     "schema_version": 3,
     "solution": false,
     "task": false
    }
   },
   "source": [
    "#### c)\n",
    "Based on the DFG, name the first type of cut that is identified by the Inductive Miner. Briefly explain why this is the correct cut.\n",
    "\n",
    "*Hint: You can of course also use other functionalities of PM4Py to identify the cut. Nevertheless, your submitted notebook is expected to contain the DFG.*\n"
   ]
  },
  {
   "cell_type": "markdown",
   "id": "9ec27f80-46fb-449c-97bc-13a236e65c42",
   "metadata": {
    "deletable": false,
    "nbgrader": {
     "cell_type": "markdown",
     "checksum": "20ae3f76a27dd72e2bd3823dff0757b3",
     "grade": true,
     "grade_id": "cell-60ec64c813cf7a3b",
     "locked": false,
     "points": 0.5,
     "schema_version": 3,
     "solution": true,
     "task": false
    }
   },
   "source": [
    "__Student Answer:__  The first cut is a sequence cut. This is correct as the first activities are always in the same order."
   ]
  },
  {
   "cell_type": "markdown",
   "id": "aa47ccb935bc1b58",
   "metadata": {
    "collapsed": false,
    "deletable": false,
    "editable": false,
    "jupyter": {
     "outputs_hidden": false
    },
    "nbgrader": {
     "cell_type": "markdown",
     "checksum": "38d9c6221fd5e48744724c8144becdd8",
     "grade": false,
     "grade_id": "cell-fb2bf173179ff828",
     "locked": true,
     "schema_version": 3,
     "solution": false,
     "task": false
    }
   },
   "source": [
    "#### d)\n",
    "Give the activity-partitions as a list and store it into a variable called `first_cut_partitions`. This list should include at least two sets containing only activity names (no start or end).\n",
    "Note, that the number of partitions depends on the maximum cut you identified.\n",
    "\n",
    "For example, `[{\"c\",\"d\"}, {\"a\",\"b\"}]` indicates two partitions: one with a and b and the other with c and d."
   ]
  },
  {
   "cell_type": "code",
   "execution_count": 11,
   "id": "2ae46787a50d7e8a",
   "metadata": {
    "ExecuteTime": {
     "end_time": "2023-12-18T06:29:56.589394800Z",
     "start_time": "2023-12-18T06:29:56.571045200Z"
    },
    "deletable": false,
    "jupyter": {
     "outputs_hidden": false
    },
    "nbgrader": {
     "cell_type": "code",
     "checksum": "99b8ab2ae94326754bc2024102f6d5b5",
     "grade": true,
     "grade_id": "cell-61be48a24f829a6d",
     "locked": false,
     "points": 1,
     "schema_version": 3,
     "solution": true,
     "task": false
    }
   },
   "outputs": [
    {
     "data": {
      "text/plain": [
       "[('First download of assignment', 'Revisit PM Exercise in Moodle'),\n",
       " ('Revisit PM Exercise in Moodle', 'Solve tasks individually'),\n",
       " ('Solve tasks individually', 'Recheck/Compare Task Results'),\n",
       " ('Recheck/Compare Task Results', 'Redo Task(s)'),\n",
       " ('Redo Task(s)', 'Coordinate with Assignment Group'),\n",
       " ('Coordinate with Assignment Group', 'Solve tasks individually'),\n",
       " ('Recheck/Compare Task Results', 'Submit results'),\n",
       " ('Revisit PM Exercise in Moodle', 'Coordinate with Assignment Group'),\n",
       " ('Coordinate with Assignment Group', 'Solve tasks together'),\n",
       " ('Solve tasks together', 'Recheck/Compare Task Results'),\n",
       " ('Revisit PM Exercise in Moodle', 'Solve tasks together'),\n",
       " ('Submit results', 'Coordinate with Assignment Group'),\n",
       " ('Recheck/Compare Task Results', 'Coordinate with Assignment Group'),\n",
       " ('Coordinate with Assignment Group', 'Submit results'),\n",
       " ('Redo Task(s)', 'Solve tasks individually'),\n",
       " ('Solve tasks individually', 'Coordinate with Assignment Group'),\n",
       " ('Coordinate with Assignment Group', 'Recheck/Compare Task Results'),\n",
       " ('Coordinate with Assignment Group', 'Redo Task(s)'),\n",
       " ('Redo Task(s)', 'Solve tasks together'),\n",
       " ('Solve tasks together', 'Coordinate with Assignment Group')]"
      ]
     },
     "execution_count": 11,
     "metadata": {},
     "output_type": "execute_result"
    }
   ],
   "source": [
    "# YOUR CODE HERE\n",
    "\n",
    "first_cut_partitions=[{'Revisit PM Exercise in Moodle'}]\n",
    "first_cut_partitions\n",
    "\n"
   ]
  },
  {
   "cell_type": "markdown",
   "id": "9dcf84794c1e2554",
   "metadata": {
    "collapsed": false,
    "deletable": false,
    "editable": false,
    "jupyter": {
     "outputs_hidden": false
    },
    "nbgrader": {
     "cell_type": "markdown",
     "checksum": "cde8fdd363f0bcba1370a93c36a87f4d",
     "grade": false,
     "grade_id": "cell-6c9f1b5c94ea192f",
     "locked": true,
     "schema_version": 3,
     "solution": false,
     "task": false
    }
   },
   "source": [
    "#### e)\n",
    "Having identified the cut, split the event log accordingly. \n",
    "Create five variables, called `sub_log_groups1`, `sub_log_groups2`, `sub_log_groups3`, `sub_log_groups4`, and `sub_log_groups5`. \n",
    "Create the sublog for each of your identified partitions and store it in one of the variables. Assign `None` to all variables you don't use."
   ]
  },
  {
   "cell_type": "code",
   "execution_count": null,
   "id": "16dc85ce46bbcbfe",
   "metadata": {
    "ExecuteTime": {
     "end_time": "2023-12-18T06:29:56.723754Z",
     "start_time": "2023-12-18T06:29:56.637869200Z"
    },
    "deletable": false,
    "jupyter": {
     "outputs_hidden": false
    },
    "nbgrader": {
     "cell_type": "code",
     "checksum": "7b9775f789010a0d497eb6022f9045f9",
     "grade": false,
     "grade_id": "cell-2ec54acf306e7369",
     "locked": false,
     "schema_version": 3,
     "solution": true,
     "task": false
    }
   },
   "outputs": [],
   "source": [
    "sub_log_groups1 = ... # either sublog (aka dataframe) or None\n",
    "sub_log_groups2 = ... # either sublog (aka dataframe) or None\n",
    "sub_log_groups3 = ... # either sublog (aka dataframe) or None\n",
    "sub_log_groups4 = ... # either sublog (aka dataframe) or None\n",
    "sub_log_groups5 = ... # either sublog (aka dataframe) or None\n",
    "# YOUR CODE HERE"
   ]
  },
  {
   "cell_type": "code",
   "execution_count": null,
   "id": "f0b16c08-058a-4b86-a4c0-c40196a280f8",
   "metadata": {
    "ExecuteTime": {
     "end_time": "2023-12-18T06:29:56.801736200Z",
     "start_time": "2023-12-18T06:29:56.760452300Z"
    },
    "deletable": false,
    "editable": false,
    "nbgrader": {
     "cell_type": "code",
     "checksum": "9055048863cb4cc747c2504ac5d2cf20",
     "grade": true,
     "grade_id": "cell-78741f7cbe58fd97",
     "locked": true,
     "points": 3,
     "schema_version": 3,
     "solution": false,
     "task": false
    }
   },
   "outputs": [],
   "source": [
    "# Please leave this cell empty - used for grading."
   ]
  },
  {
   "cell_type": "markdown",
   "id": "07049519-30c4-4978-a7a0-5bdebd0143b5",
   "metadata": {
    "deletable": false,
    "editable": false,
    "nbgrader": {
     "cell_type": "markdown",
     "checksum": "20148fd60118ac733e20e20e5b23cca3",
     "grade": false,
     "grade_id": "cell-f7b655bbbfd03aa4",
     "locked": true,
     "schema_version": 3,
     "solution": false,
     "task": false
    }
   },
   "source": [
    " ## Part II: Generating Process Insights (16 Points)  \n",
    "After having applied some of the learned process mining techniques to a proper event log, you notice that you enjoy working with event data and feel a lot more confident with your skills. \n",
    "For this reason, you decide to found a student association to offer students the opportunity to gain experience in Process Mining by executing projects with non-profit organisations and communal services. \n",
    "Your first project is with the municipality to evaluate how they deal with filed requests from citizens."
   ]
  },
  {
   "cell_type": "markdown",
   "id": "c61eee0f-ce72-44b5-b424-bec7d85d4efc",
   "metadata": {
    "deletable": false,
    "editable": false,
    "nbgrader": {
     "cell_type": "markdown",
     "checksum": "56e044e98fbcaeca2883a15a5c743276",
     "grade": false,
     "grade_id": "cell-5370e9b2a3bfa041",
     "locked": true,
     "schema_version": 3,
     "solution": false,
     "task": false
    }
   },
   "source": [
    "#### a)\n",
    "Load the municipality's fully anonymized event log **q3_event_log_pt2.xes** into a variable called `sa_log` using PM4Py and display the first 20 rows of the dataframe. \n",
    "Create and display the following statistics and save them in the corresponding variable names:  \n",
    "* `sa_event_count` The number of events in the log.  \n",
    "* `sa_case_count`: The number of cases in the log."
   ]
  },
  {
   "cell_type": "code",
   "execution_count": 20,
   "id": "f16772fe21ff129c",
   "metadata": {
    "ExecuteTime": {
     "end_time": "2023-12-18T07:19:24.272965700Z",
     "start_time": "2023-12-18T07:19:22.373699200Z"
    },
    "deletable": false,
    "jupyter": {
     "outputs_hidden": false
    },
    "nbgrader": {
     "cell_type": "code",
     "checksum": "b8765e91b02f57d144bf3e8943ab7097",
     "grade": true,
     "grade_id": "cell-262ee8fe893b3dca",
     "locked": false,
     "points": 1.5,
     "schema_version": 3,
     "solution": true,
     "task": false
    }
   },
   "outputs": [
    {
     "data": {
      "application/vnd.jupyter.widget-view+json": {
       "model_id": "0f5f1d10cfc64314b39f7d4a6997eb36",
       "version_major": 2,
       "version_minor": 0
      },
      "text/plain": [
       "parsing log, completed traces ::   0%|          | 0/4580 [00:00<?, ?it/s]"
      ]
     },
     "metadata": {},
     "output_type": "display_data"
    },
    {
     "name": "stdout",
     "output_type": "stream",
     "text": [
      "Number of events:  21348\n",
      "Number of cases:  4580\n"
     ]
    },
    {
     "data": {
      "text/html": [
       "<div>\n",
       "<style scoped>\n",
       "    .dataframe tbody tr th:only-of-type {\n",
       "        vertical-align: middle;\n",
       "    }\n",
       "\n",
       "    .dataframe tbody tr th {\n",
       "        vertical-align: top;\n",
       "    }\n",
       "\n",
       "    .dataframe thead th {\n",
       "        text-align: right;\n",
       "    }\n",
       "</style>\n",
       "<table border=\"1\" class=\"dataframe\">\n",
       "  <thead>\n",
       "    <tr style=\"text-align: right;\">\n",
       "      <th></th>\n",
       "      <th>service_type</th>\n",
       "      <th>workgroup</th>\n",
       "      <th>citizen_no</th>\n",
       "      <th>service_level</th>\n",
       "      <th>concept:name</th>\n",
       "      <th>service</th>\n",
       "      <th>responsible_department</th>\n",
       "      <th>time:timestamp</th>\n",
       "      <th>lifecycle:transition</th>\n",
       "      <th>case:concept:name</th>\n",
       "    </tr>\n",
       "  </thead>\n",
       "  <tbody>\n",
       "    <tr>\n",
       "      <th>0</th>\n",
       "      <td>Service Type 1</td>\n",
       "      <td>Group 1</td>\n",
       "      <td>0052211</td>\n",
       "      <td>Level 1</td>\n",
       "      <td>Assign priority</td>\n",
       "      <td>Service 1</td>\n",
       "      <td>Department 1</td>\n",
       "      <td>2012-10-09 12:50:17+00:00</td>\n",
       "      <td>complete</td>\n",
       "      <td>Case 1</td>\n",
       "    </tr>\n",
       "    <tr>\n",
       "      <th>1</th>\n",
       "      <td>Service Type 1</td>\n",
       "      <td>Group 1</td>\n",
       "      <td>0052211</td>\n",
       "      <td>Level 1</td>\n",
       "      <td>Begin resolving</td>\n",
       "      <td>Service 1</td>\n",
       "      <td>Department 1</td>\n",
       "      <td>2012-10-09 12:51:01+00:00</td>\n",
       "      <td>complete</td>\n",
       "      <td>Case 1</td>\n",
       "    </tr>\n",
       "    <tr>\n",
       "      <th>2</th>\n",
       "      <td>Service Type 1</td>\n",
       "      <td>Group 1</td>\n",
       "      <td>0052211</td>\n",
       "      <td>Level 2</td>\n",
       "      <td>Begin resolving</td>\n",
       "      <td>Service 1</td>\n",
       "      <td>Department 1</td>\n",
       "      <td>2012-10-12 13:02:56+00:00</td>\n",
       "      <td>complete</td>\n",
       "      <td>Case 1</td>\n",
       "    </tr>\n",
       "    <tr>\n",
       "      <th>3</th>\n",
       "      <td>Service Type 1</td>\n",
       "      <td>Group 1</td>\n",
       "      <td>0052211</td>\n",
       "      <td>Level 2</td>\n",
       "      <td>Notify citizen about resolution</td>\n",
       "      <td>Service 1</td>\n",
       "      <td>Department 1</td>\n",
       "      <td>2012-10-25 09:54:26+00:00</td>\n",
       "      <td>complete</td>\n",
       "      <td>Case 1</td>\n",
       "    </tr>\n",
       "    <tr>\n",
       "      <th>4</th>\n",
       "      <td>Service Type 1</td>\n",
       "      <td>Group 1</td>\n",
       "      <td>0052211</td>\n",
       "      <td>Level 2</td>\n",
       "      <td>Archive request</td>\n",
       "      <td>Service 1</td>\n",
       "      <td>Department 1</td>\n",
       "      <td>2012-11-09 11:54:39+00:00</td>\n",
       "      <td>complete</td>\n",
       "      <td>Case 1</td>\n",
       "    </tr>\n",
       "    <tr>\n",
       "      <th>5</th>\n",
       "      <td>Service Type 1</td>\n",
       "      <td>Group 3</td>\n",
       "      <td>00522110</td>\n",
       "      <td>Level 3</td>\n",
       "      <td>Assign priority</td>\n",
       "      <td>Service 3</td>\n",
       "      <td>Department 2</td>\n",
       "      <td>2010-02-10 07:50:20+00:00</td>\n",
       "      <td>complete</td>\n",
       "      <td>Case 10</td>\n",
       "    </tr>\n",
       "    <tr>\n",
       "      <th>6</th>\n",
       "      <td>Service Type 1</td>\n",
       "      <td>Group 3</td>\n",
       "      <td>00522110</td>\n",
       "      <td>Level 3</td>\n",
       "      <td>Begin resolving</td>\n",
       "      <td>Service 3</td>\n",
       "      <td>Department 2</td>\n",
       "      <td>2010-03-19 07:47:06+00:00</td>\n",
       "      <td>complete</td>\n",
       "      <td>Case 10</td>\n",
       "    </tr>\n",
       "    <tr>\n",
       "      <th>7</th>\n",
       "      <td>Service Type 1</td>\n",
       "      <td>Group 3</td>\n",
       "      <td>00522110</td>\n",
       "      <td>Level 3</td>\n",
       "      <td>Notify citizen about resolution</td>\n",
       "      <td>Service 3</td>\n",
       "      <td>Department 2</td>\n",
       "      <td>2010-03-19 07:47:13+00:00</td>\n",
       "      <td>complete</td>\n",
       "      <td>Case 10</td>\n",
       "    </tr>\n",
       "    <tr>\n",
       "      <th>8</th>\n",
       "      <td>Service Type 1</td>\n",
       "      <td>Group 3</td>\n",
       "      <td>00522110</td>\n",
       "      <td>Level 3</td>\n",
       "      <td>Archive request</td>\n",
       "      <td>Service 3</td>\n",
       "      <td>Department 2</td>\n",
       "      <td>2010-04-03 05:47:38+00:00</td>\n",
       "      <td>complete</td>\n",
       "      <td>Case 10</td>\n",
       "    </tr>\n",
       "    <tr>\n",
       "      <th>9</th>\n",
       "      <td>Service Type 1</td>\n",
       "      <td>Group 1</td>\n",
       "      <td>00522144</td>\n",
       "      <td>Level 2</td>\n",
       "      <td>Assign priority</td>\n",
       "      <td>Service 1</td>\n",
       "      <td>Department 1</td>\n",
       "      <td>2013-04-12 08:25:17+00:00</td>\n",
       "      <td>complete</td>\n",
       "      <td>Case 100</td>\n",
       "    </tr>\n",
       "    <tr>\n",
       "      <th>10</th>\n",
       "      <td>Service Type 1</td>\n",
       "      <td>Group 1</td>\n",
       "      <td>00522144</td>\n",
       "      <td>Level 2</td>\n",
       "      <td>Begin resolving</td>\n",
       "      <td>Service 1</td>\n",
       "      <td>Department 1</td>\n",
       "      <td>2013-04-24 08:24:01+00:00</td>\n",
       "      <td>complete</td>\n",
       "      <td>Case 100</td>\n",
       "    </tr>\n",
       "    <tr>\n",
       "      <th>11</th>\n",
       "      <td>Service Type 1</td>\n",
       "      <td>Group 1</td>\n",
       "      <td>00522144</td>\n",
       "      <td>Level 2</td>\n",
       "      <td>Escalate</td>\n",
       "      <td>Service 1</td>\n",
       "      <td>Department 1</td>\n",
       "      <td>2013-04-24 13:51:11+00:00</td>\n",
       "      <td>complete</td>\n",
       "      <td>Case 100</td>\n",
       "    </tr>\n",
       "    <tr>\n",
       "      <th>12</th>\n",
       "      <td>Service Type 1</td>\n",
       "      <td>Group 1</td>\n",
       "      <td>00522144</td>\n",
       "      <td>Level 2</td>\n",
       "      <td>Notify citizen about resolution</td>\n",
       "      <td>Service 1</td>\n",
       "      <td>Department 1</td>\n",
       "      <td>2013-05-15 11:21:00+00:00</td>\n",
       "      <td>complete</td>\n",
       "      <td>Case 100</td>\n",
       "    </tr>\n",
       "    <tr>\n",
       "      <th>13</th>\n",
       "      <td>Service Type 1</td>\n",
       "      <td>Group 1</td>\n",
       "      <td>00522144</td>\n",
       "      <td>Level 2</td>\n",
       "      <td>Archive request</td>\n",
       "      <td>Service 1</td>\n",
       "      <td>Department 1</td>\n",
       "      <td>2013-05-30 11:21:20+00:00</td>\n",
       "      <td>complete</td>\n",
       "      <td>Case 100</td>\n",
       "    </tr>\n",
       "    <tr>\n",
       "      <th>14</th>\n",
       "      <td>Service Type 1</td>\n",
       "      <td>Group 1</td>\n",
       "      <td>00522192</td>\n",
       "      <td>Level 2</td>\n",
       "      <td>Assign priority</td>\n",
       "      <td>Service 3</td>\n",
       "      <td>Department 4</td>\n",
       "      <td>2010-01-21 07:53:28+00:00</td>\n",
       "      <td>complete</td>\n",
       "      <td>Case 1000</td>\n",
       "    </tr>\n",
       "    <tr>\n",
       "      <th>15</th>\n",
       "      <td>Service Type 1</td>\n",
       "      <td>Group 1</td>\n",
       "      <td>00522192</td>\n",
       "      <td>Level 2</td>\n",
       "      <td>Assign priority</td>\n",
       "      <td>Service 3</td>\n",
       "      <td>Department 4</td>\n",
       "      <td>2010-01-21 07:53:34+00:00</td>\n",
       "      <td>complete</td>\n",
       "      <td>Case 1000</td>\n",
       "    </tr>\n",
       "    <tr>\n",
       "      <th>16</th>\n",
       "      <td>Service Type 1</td>\n",
       "      <td>Group 1</td>\n",
       "      <td>00522192</td>\n",
       "      <td>Level 2</td>\n",
       "      <td>Begin resolving</td>\n",
       "      <td>Service 3</td>\n",
       "      <td>Department 4</td>\n",
       "      <td>2010-01-21 07:53:40+00:00</td>\n",
       "      <td>complete</td>\n",
       "      <td>Case 1000</td>\n",
       "    </tr>\n",
       "    <tr>\n",
       "      <th>17</th>\n",
       "      <td>Service Type 1</td>\n",
       "      <td>Group 1</td>\n",
       "      <td>00522192</td>\n",
       "      <td>Level 2</td>\n",
       "      <td>Notify citizen about resolution</td>\n",
       "      <td>Service 3</td>\n",
       "      <td>Department 4</td>\n",
       "      <td>2010-01-26 13:06:53+00:00</td>\n",
       "      <td>complete</td>\n",
       "      <td>Case 1000</td>\n",
       "    </tr>\n",
       "    <tr>\n",
       "      <th>18</th>\n",
       "      <td>Service Type 1</td>\n",
       "      <td>Group 1</td>\n",
       "      <td>00522192</td>\n",
       "      <td>Level 2</td>\n",
       "      <td>Archive request</td>\n",
       "      <td>Service 3</td>\n",
       "      <td>Department 4</td>\n",
       "      <td>2010-03-06 08:00:57+00:00</td>\n",
       "      <td>complete</td>\n",
       "      <td>Case 1000</td>\n",
       "    </tr>\n",
       "    <tr>\n",
       "      <th>19</th>\n",
       "      <td>Service Type 1</td>\n",
       "      <td>Group 1</td>\n",
       "      <td>005221239</td>\n",
       "      <td>Level 2</td>\n",
       "      <td>Assign priority</td>\n",
       "      <td>Service 2</td>\n",
       "      <td>Department 1</td>\n",
       "      <td>2013-03-08 16:01:24+00:00</td>\n",
       "      <td>complete</td>\n",
       "      <td>Case 1001</td>\n",
       "    </tr>\n",
       "  </tbody>\n",
       "</table>\n",
       "</div>"
      ],
      "text/plain": [
       "      service_type workgroup citizen_no service_level  \\\n",
       "0   Service Type 1   Group 1    0052211       Level 1   \n",
       "1   Service Type 1   Group 1    0052211       Level 1   \n",
       "2   Service Type 1   Group 1    0052211       Level 2   \n",
       "3   Service Type 1   Group 1    0052211       Level 2   \n",
       "4   Service Type 1   Group 1    0052211       Level 2   \n",
       "5   Service Type 1   Group 3   00522110       Level 3   \n",
       "6   Service Type 1   Group 3   00522110       Level 3   \n",
       "7   Service Type 1   Group 3   00522110       Level 3   \n",
       "8   Service Type 1   Group 3   00522110       Level 3   \n",
       "9   Service Type 1   Group 1   00522144       Level 2   \n",
       "10  Service Type 1   Group 1   00522144       Level 2   \n",
       "11  Service Type 1   Group 1   00522144       Level 2   \n",
       "12  Service Type 1   Group 1   00522144       Level 2   \n",
       "13  Service Type 1   Group 1   00522144       Level 2   \n",
       "14  Service Type 1   Group 1   00522192       Level 2   \n",
       "15  Service Type 1   Group 1   00522192       Level 2   \n",
       "16  Service Type 1   Group 1   00522192       Level 2   \n",
       "17  Service Type 1   Group 1   00522192       Level 2   \n",
       "18  Service Type 1   Group 1   00522192       Level 2   \n",
       "19  Service Type 1   Group 1  005221239       Level 2   \n",
       "\n",
       "                       concept:name    service responsible_department  \\\n",
       "0                   Assign priority  Service 1           Department 1   \n",
       "1                   Begin resolving  Service 1           Department 1   \n",
       "2                   Begin resolving  Service 1           Department 1   \n",
       "3   Notify citizen about resolution  Service 1           Department 1   \n",
       "4                   Archive request  Service 1           Department 1   \n",
       "5                   Assign priority  Service 3           Department 2   \n",
       "6                   Begin resolving  Service 3           Department 2   \n",
       "7   Notify citizen about resolution  Service 3           Department 2   \n",
       "8                   Archive request  Service 3           Department 2   \n",
       "9                   Assign priority  Service 1           Department 1   \n",
       "10                  Begin resolving  Service 1           Department 1   \n",
       "11                         Escalate  Service 1           Department 1   \n",
       "12  Notify citizen about resolution  Service 1           Department 1   \n",
       "13                  Archive request  Service 1           Department 1   \n",
       "14                  Assign priority  Service 3           Department 4   \n",
       "15                  Assign priority  Service 3           Department 4   \n",
       "16                  Begin resolving  Service 3           Department 4   \n",
       "17  Notify citizen about resolution  Service 3           Department 4   \n",
       "18                  Archive request  Service 3           Department 4   \n",
       "19                  Assign priority  Service 2           Department 1   \n",
       "\n",
       "              time:timestamp lifecycle:transition case:concept:name  \n",
       "0  2012-10-09 12:50:17+00:00             complete            Case 1  \n",
       "1  2012-10-09 12:51:01+00:00             complete            Case 1  \n",
       "2  2012-10-12 13:02:56+00:00             complete            Case 1  \n",
       "3  2012-10-25 09:54:26+00:00             complete            Case 1  \n",
       "4  2012-11-09 11:54:39+00:00             complete            Case 1  \n",
       "5  2010-02-10 07:50:20+00:00             complete           Case 10  \n",
       "6  2010-03-19 07:47:06+00:00             complete           Case 10  \n",
       "7  2010-03-19 07:47:13+00:00             complete           Case 10  \n",
       "8  2010-04-03 05:47:38+00:00             complete           Case 10  \n",
       "9  2013-04-12 08:25:17+00:00             complete          Case 100  \n",
       "10 2013-04-24 08:24:01+00:00             complete          Case 100  \n",
       "11 2013-04-24 13:51:11+00:00             complete          Case 100  \n",
       "12 2013-05-15 11:21:00+00:00             complete          Case 100  \n",
       "13 2013-05-30 11:21:20+00:00             complete          Case 100  \n",
       "14 2010-01-21 07:53:28+00:00             complete         Case 1000  \n",
       "15 2010-01-21 07:53:34+00:00             complete         Case 1000  \n",
       "16 2010-01-21 07:53:40+00:00             complete         Case 1000  \n",
       "17 2010-01-26 13:06:53+00:00             complete         Case 1000  \n",
       "18 2010-03-06 08:00:57+00:00             complete         Case 1000  \n",
       "19 2013-03-08 16:01:24+00:00             complete         Case 1001  "
      ]
     },
     "execution_count": 20,
     "metadata": {},
     "output_type": "execute_result"
    }
   ],
   "source": [
    "# YOUR CODE HERE\n",
    "log = pm4py.read_xes('datasets/q3_event_log_pt2.xes')\n",
    "\n",
    "\n",
    "sa_event_count=len(log)\n",
    "sa_case_count=len(log['case:concept:name'].unique())\n",
    "print('Number of events: ',sa_event_count)\n",
    "print('Number of cases: ',sa_case_count)\n",
    "\n",
    "log.head(20)"
   ]
  },
  {
   "cell_type": "markdown",
   "id": "16bb0b13a73f0770",
   "metadata": {
    "collapsed": false,
    "deletable": false,
    "editable": false,
    "jupyter": {
     "outputs_hidden": false
    },
    "nbgrader": {
     "cell_type": "markdown",
     "checksum": "9acd945a62270ef1a72320d9a2891846",
     "grade": false,
     "grade_id": "cell-9455d4bae7c184ae",
     "locked": true,
     "schema_version": 3,
     "solution": false,
     "task": false
    }
   },
   "source": [
    "#### b)\n",
    "First, look at the individual variants in the log. \n",
    "Create an overview of trace variants in the event log as a dictionary called `sa_variants`. \n",
    "Each entry should contain the following: \n",
    "* Key: A tuple of activity names representing the trace variant,\n",
    "* Value: The number of occurrences of this variant in the log. \n",
    "\n",
    "Additionally, answer the following questions and indicate their answers in the variables as described below:\n",
    "* `start_activities`: What is the set of start activity names found in the log?\n",
    "* `end_activities`: What is the set of end activity names found in the log?\n",
    "* `sa_variant_count`: How many trace variants does the event log contain?"
   ]
  },
  {
   "cell_type": "code",
   "execution_count": 25,
   "id": "7e82510071c668e4",
   "metadata": {
    "ExecuteTime": {
     "end_time": "2023-12-18T07:19:30.021091Z",
     "start_time": "2023-12-18T07:19:29.981115700Z"
    },
    "deletable": false,
    "jupyter": {
     "outputs_hidden": false
    },
    "nbgrader": {
     "cell_type": "code",
     "checksum": "b7eb249276d88fda509192feaa31e1a9",
     "grade": true,
     "grade_id": "cell-a3f5f6e99048511c",
     "locked": false,
     "points": 1,
     "schema_version": 3,
     "solution": true,
     "task": false
    }
   },
   "outputs": [
    {
     "data": {
      "text/plain": [
       "({('Archive request', 'Archive request'): 14,\n",
       "  ('Archive request', 'Begin resolving'): 2,\n",
       "  ('Archive request', 'Verify provided data'): 1,\n",
       "  ('Assign priority', 'Assign priority'): 439,\n",
       "  ('Assign priority', 'Begin anomaly investigation of provided data'): 4,\n",
       "  ('Assign priority', 'Begin resolving'): 4160,\n",
       "  ('Assign priority', 'Escalate'): 8,\n",
       "  ('Assign priority',\n",
       "   'Inquire further information form other municipality'): 69,\n",
       "  ('Assign priority', 'Notify citizen about resolution'): 258,\n",
       "  ('Begin anomaly investigation of provided data',\n",
       "   'Begin anomaly investigation of provided data'): 4,\n",
       "  ('Begin anomaly investigation of provided data', 'Begin resolving'): 3,\n",
       "  ('Begin anomaly investigation of provided data', 'Correct provided data'): 7,\n",
       "  ('Begin anomaly investigation of provided data', 'Escalate'): 11,\n",
       "  ('Begin anomaly investigation of provided data',\n",
       "   'Notify citizen about resolution'): 42,\n",
       "  ('Begin resolving', 'Assign priority'): 1,\n",
       "  ('Begin resolving', 'Begin anomaly investigation of provided data'): 53,\n",
       "  ('Begin resolving', 'Begin resolving'): 99,\n",
       "  ('Begin resolving', 'Correct provided data'): 1,\n",
       "  ('Begin resolving', 'Escalate'): 72,\n",
       "  ('Begin resolving',\n",
       "   'Inquire further information form other municipality'): 1265,\n",
       "  ('Begin resolving', 'Notify citizen about resolution'): 3563,\n",
       "  ('Begin resolving', 'Schedule new appointment'): 5,\n",
       "  ('Correct provided data', 'Correct provided data'): 5,\n",
       "  ('Correct provided data', 'Escalate'): 4,\n",
       "  ('Correct provided data', 'Notify citizen about resolution'): 4,\n",
       "  ('Document duplicate request', 'Notify citizen about resolution'): 1,\n",
       "  ('Escalate', 'Begin anomaly investigation of provided data'): 3,\n",
       "  ('Escalate', 'Begin resolving'): 6,\n",
       "  ('Escalate', 'Escalate'): 16,\n",
       "  ('Escalate', 'Inquire further information form other municipality'): 8,\n",
       "  ('Escalate', 'Notify citizen about resolution'): 82,\n",
       "  ('Escalate', 'Verify provided data'): 1,\n",
       "  ('File resolution', 'Inform citizen about invalidity of provided data'): 2,\n",
       "  ('Inform citizen about invalidity of provided data', 'Archive request'): 1,\n",
       "  ('Inform citizen about invalidity of provided data',\n",
       "   'Verify provided data'): 1,\n",
       "  ('Inquire further information form other municipality',\n",
       "   'Assign priority'): 2,\n",
       "  ('Inquire further information form other municipality',\n",
       "   'Begin anomaly investigation of provided data'): 2,\n",
       "  ('Inquire further information form other municipality',\n",
       "   'Begin resolving'): 558,\n",
       "  ('Inquire further information form other municipality', 'Escalate'): 7,\n",
       "  ('Inquire further information form other municipality',\n",
       "   'Inquire further information form other municipality'): 113,\n",
       "  ('Inquire further information form other municipality',\n",
       "   'Notify citizen about resolution'): 773,\n",
       "  ('Insert request', 'Assign priority'): 111,\n",
       "  ('Insert request', 'Begin resolving'): 3,\n",
       "  ('Insert request', 'Inquire further information form other municipality'): 4,\n",
       "  ('Notify citizen about resolution', 'Archive request'): 4558,\n",
       "  ('Notify citizen about resolution', 'Assign priority'): 1,\n",
       "  ('Notify citizen about resolution', 'Begin resolving'): 154,\n",
       "  ('Notify citizen about resolution', 'Escalate'): 1,\n",
       "  ('Notify citizen about resolution', 'File resolution'): 2,\n",
       "  ('Notify citizen about resolution',\n",
       "   'Inquire further information form other municipality'): 3,\n",
       "  ('Notify citizen about resolution', 'Notify citizen about resolution'): 254,\n",
       "  ('Schedule new appointment', 'Begin resolving'): 1,\n",
       "  ('Schedule new appointment', 'Notify citizen about resolution'): 4,\n",
       "  ('Verify provided data', 'Archive request'): 1,\n",
       "  ('Verify provided data', 'Document duplicate request'): 1},\n",
       " 55)"
      ]
     },
     "execution_count": 25,
     "metadata": {},
     "output_type": "execute_result"
    }
   ],
   "source": [
    "# YOUR CODE HERE\n",
    "sa_variants, start_activities, end_activities = pm4py.discover_dfg_typed(log)\n",
    "sa_variant_count=len(sa_variants)\n",
    "\n",
    "sa_variants, sa_variant_count\n"
   ]
  },
  {
   "cell_type": "markdown",
   "id": "6155fb8d19f7e666",
   "metadata": {
    "collapsed": false,
    "deletable": false,
    "editable": false,
    "jupyter": {
     "outputs_hidden": false
    },
    "nbgrader": {
     "cell_type": "markdown",
     "checksum": "45cf820d85e2bc6cc0454a7af35a9fdd",
     "grade": false,
     "grade_id": "cell-07f71a36152bba67",
     "locked": true,
     "schema_version": 3,
     "solution": false,
     "task": false
    }
   },
   "source": [
    "#### d)\n",
    "You notice that more than half of the activities in the log are either start or end activities and take this as an indicator for noisy data.\n",
    "Create a new filtered event log `log_archived_frequent`, which only contains variants containing at least 2% of cases in log and in which the request and resolution are archived. \n",
    "How many variants does this log contain? Display your answer and store it in `variants_archived_frequent_count`. How many cases does this sub-log contain (`cases_archived_frequent_count`)? "
   ]
  },
  {
   "cell_type": "code",
   "execution_count": null,
   "id": "874a71ea94fbe789",
   "metadata": {
    "ExecuteTime": {
     "end_time": "2023-12-18T07:21:13.587823200Z",
     "start_time": "2023-12-18T07:21:13.199268Z"
    },
    "deletable": false,
    "jupyter": {
     "outputs_hidden": false
    },
    "nbgrader": {
     "cell_type": "code",
     "checksum": "28fa07977ae75b941e1d2ee1369cebbc",
     "grade": true,
     "grade_id": "cell-c6e29897d3d083ed",
     "locked": false,
     "points": 1,
     "schema_version": 3,
     "solution": true,
     "task": false
    }
   },
   "outputs": [],
   "source": [
    "# YOUR CODE HERE\n",
    "log_archived_frequent="
   ]
  },
  {
   "cell_type": "markdown",
   "id": "6b4d84da30722e82",
   "metadata": {
    "collapsed": false,
    "deletable": false,
    "editable": false,
    "jupyter": {
     "outputs_hidden": false
    },
    "nbgrader": {
     "cell_type": "markdown",
     "checksum": "5e29fbea258e1c980b1128d344beea23",
     "grade": false,
     "grade_id": "cell-13f26a400772959e",
     "locked": true,
     "schema_version": 3,
     "solution": false,
     "task": false
    }
   },
   "source": [
    "#### e)\n",
    "Use the Inductive Miner to discover a Petri net from this event log annotated with frequencies and display it. How often are citizens informed twice about the resolution of their request?"
   ]
  },
  {
   "cell_type": "code",
   "execution_count": null,
   "id": "e5d2e191a1cd7ab2",
   "metadata": {
    "ExecuteTime": {
     "end_time": "2023-12-18T07:53:35.584209800Z",
     "start_time": "2023-12-18T07:53:32.528996100Z"
    },
    "deletable": false,
    "jupyter": {
     "outputs_hidden": false
    },
    "nbgrader": {
     "cell_type": "code",
     "checksum": "af3ec645f2979813101dd0a6b8a6e278",
     "grade": true,
     "grade_id": "cell-71abb659dd7ac365",
     "locked": false,
     "points": 1,
     "schema_version": 3,
     "solution": true,
     "task": false
    }
   },
   "outputs": [],
   "source": [
    "# YOUR CODE HERE"
   ]
  },
  {
   "cell_type": "markdown",
   "id": "6638c71bb86494ad",
   "metadata": {
    "collapsed": false,
    "deletable": false,
    "editable": false,
    "jupyter": {
     "outputs_hidden": false
    },
    "nbgrader": {
     "cell_type": "markdown",
     "checksum": "a2a718982f0f51308b3cc0144cfbeece",
     "grade": false,
     "grade_id": "cell-a4859f05cb875660",
     "locked": true,
     "points": 0,
     "schema_version": 3,
     "solution": false,
     "task": true
    }
   },
   "source": [
    "i) How often are citizens informed several times about the resolution of their request?"
   ]
  },
  {
   "cell_type": "code",
   "execution_count": null,
   "id": "d1aba8deabe88e2e",
   "metadata": {
    "ExecuteTime": {
     "end_time": "2023-12-18T08:19:25.113993400Z",
     "start_time": "2023-12-18T08:19:25.051819900Z"
    },
    "deletable": false,
    "jupyter": {
     "outputs_hidden": false
    },
    "nbgrader": {
     "cell_type": "code",
     "checksum": "f5a4f5a4e83f55956e7987c342148239",
     "grade": true,
     "grade_id": "cell-551c3ddcb2766940",
     "locked": false,
     "points": 1,
     "schema_version": 3,
     "solution": true,
     "task": false
    }
   },
   "outputs": [],
   "source": [
    "# YOUR CODE HERE"
   ]
  },
  {
   "cell_type": "markdown",
   "id": "b1a53cf9620b7563",
   "metadata": {
    "collapsed": false,
    "deletable": false,
    "editable": false,
    "jupyter": {
     "outputs_hidden": false
    },
    "nbgrader": {
     "cell_type": "markdown",
     "checksum": "02097af86532aa5bb1d5d896038f99e2",
     "grade": false,
     "grade_id": "cell-c626c9dc1cfe000e",
     "locked": true,
     "points": 0,
     "schema_version": 3,
     "solution": false,
     "task": true
    }
   },
   "source": [
    "ii) In how many of these cases do you expect the citizens to receive the exact same letter twice? Explain your answer.\n",
    "*Hint: Use the filtered log to answer this question*\n"
   ]
  },
  {
   "cell_type": "markdown",
   "id": "e81ee69457b5090d",
   "metadata": {
    "collapsed": false,
    "deletable": false,
    "jupyter": {
     "outputs_hidden": false
    },
    "nbgrader": {
     "cell_type": "markdown",
     "checksum": "98435e562529781a613553fbdecff326",
     "grade": true,
     "grade_id": "cell-efd4fec8297d9140",
     "locked": false,
     "points": 0.5,
     "schema_version": 3,
     "solution": true,
     "task": false
    }
   },
   "source": [
    "__Student Answer:__ _your answer goes here_"
   ]
  },
  {
   "cell_type": "markdown",
   "id": "7b207abc4059497",
   "metadata": {
    "collapsed": false,
    "deletable": false,
    "editable": false,
    "jupyter": {
     "outputs_hidden": false
    },
    "nbgrader": {
     "cell_type": "markdown",
     "checksum": "a9c1906daf04ce38bb5f2165990eb667",
     "grade": false,
     "grade_id": "cell-bc81829a5f026ea3",
     "locked": true,
     "schema_version": 3,
     "solution": false,
     "task": false
    }
   },
   "source": [
    "#### g)\n",
    "Assess how well this model represents all traces in the log. Compute the token-based replay fitness on the event log `sa_log`. \n",
    "Store the log's fitness in a variable called `log_fitness` and display the value."
   ]
  },
  {
   "cell_type": "code",
   "execution_count": null,
   "id": "529580a19e405d9",
   "metadata": {
    "ExecuteTime": {
     "end_time": "2023-12-18T07:25:52.630284200Z",
     "start_time": "2023-12-18T07:25:52.372636Z"
    },
    "deletable": false,
    "jupyter": {
     "outputs_hidden": false
    },
    "nbgrader": {
     "cell_type": "code",
     "checksum": "6908466ef5b00cd7dbb20570d036b373",
     "grade": true,
     "grade_id": "cell-5c921dec19565246",
     "locked": false,
     "points": 0.5,
     "schema_version": 3,
     "solution": true,
     "task": false
    }
   },
   "outputs": [],
   "source": [
    "# YOUR CODE HERE"
   ]
  },
  {
   "cell_type": "markdown",
   "id": "dab9d352f1be925e",
   "metadata": {
    "collapsed": false,
    "deletable": false,
    "editable": false,
    "jupyter": {
     "outputs_hidden": false
    },
    "nbgrader": {
     "cell_type": "markdown",
     "checksum": "4d6ae1e65c7d69ccfc1d2b8ab6149de2",
     "grade": false,
     "grade_id": "cell-2b4255808d81063a",
     "locked": true,
     "schema_version": 3,
     "solution": false,
     "task": false
    }
   },
   "source": [
    "#### h)\n",
    "Before being contempt with the achieved fitness, you want to consider how the fitness is distributed over the individual traces.\n",
    "\n",
    "i. Create a histogram of the token-based replay fitness given the individual diagnostics of all traces and use the provided `bins`.\n",
    "Save the diagnostics of the replay in a variable called `replayed_traces`."
   ]
  },
  {
   "cell_type": "code",
   "execution_count": null,
   "id": "effbe9161ff8edd",
   "metadata": {
    "ExecuteTime": {
     "end_time": "2023-12-18T07:26:04.829739300Z",
     "start_time": "2023-12-18T07:26:04.154391800Z"
    },
    "deletable": false,
    "jupyter": {
     "outputs_hidden": false
    },
    "nbgrader": {
     "cell_type": "code",
     "checksum": "34b0338dbfc53611c3769627dd021e7c",
     "grade": true,
     "grade_id": "cell-1fc1b8889dd20776",
     "locked": false,
     "points": 2,
     "schema_version": 3,
     "solution": true,
     "task": false
    }
   },
   "outputs": [],
   "source": [
    "bins = np.arange(0, 1.02, 0.02)\n",
    "\n",
    "# YOUR CODE HERE"
   ]
  },
  {
   "cell_type": "markdown",
   "id": "058acbff-0e96-4c66-8099-5ed37a8718f3",
   "metadata": {
    "deletable": false,
    "editable": false,
    "nbgrader": {
     "cell_type": "markdown",
     "checksum": "c12ed3aab669abb8e51c61b5606c6e99",
     "grade": false,
     "grade_id": "cell-43a25b401b3837e6",
     "locked": true,
     "schema_version": 3,
     "solution": false,
     "task": false
    }
   },
   "source": [
    "ii. How high is the percentage of traces with full fitness? Save you answer in a variable called `percentage_traces_full_fitness`."
   ]
  },
  {
   "cell_type": "code",
   "execution_count": null,
   "id": "85c24969-133a-4428-b3b3-82144acd3451",
   "metadata": {
    "ExecuteTime": {
     "end_time": "2023-12-18T07:26:16.834898Z",
     "start_time": "2023-12-18T07:26:16.572876500Z"
    },
    "deletable": false,
    "nbgrader": {
     "cell_type": "code",
     "checksum": "40c1b52574fa6fe3dbf2089ae0534603",
     "grade": false,
     "grade_id": "cell-d9d80344de7b7982",
     "locked": false,
     "schema_version": 3,
     "solution": true,
     "task": false
    }
   },
   "outputs": [],
   "source": [
    "# YOUR CODE HERE"
   ]
  },
  {
   "cell_type": "code",
   "execution_count": null,
   "id": "73114677689d726c",
   "metadata": {
    "ExecuteTime": {
     "end_time": "2023-12-18T07:26:40.912741400Z",
     "start_time": "2023-12-18T07:26:40.645318100Z"
    },
    "deletable": false,
    "editable": false,
    "jupyter": {
     "outputs_hidden": false
    },
    "nbgrader": {
     "cell_type": "code",
     "checksum": "d6f83a7dd2f983fb458a794240b048c3",
     "grade": true,
     "grade_id": "cell-06b88be47e8cc863",
     "locked": true,
     "points": 0.5,
     "schema_version": 3,
     "solution": false,
     "task": false
    }
   },
   "outputs": [],
   "source": []
  },
  {
   "cell_type": "markdown",
   "id": "e63db4bed09ddcb0",
   "metadata": {
    "collapsed": false,
    "deletable": false,
    "editable": false,
    "jupyter": {
     "outputs_hidden": false
    },
    "nbgrader": {
     "cell_type": "markdown",
     "checksum": "50f89c6428e2dbf866deb468814a2f33",
     "grade": false,
     "grade_id": "cell-8e51dc661103474d",
     "locked": true,
     "schema_version": 3,
     "solution": false,
     "task": false
    }
   },
   "source": [
    "#### i) (4 points) \n",
    "Processing speed is always an issue for municipalities. \n",
    "Compute the average throughput time in days of all variants in \"log_archived_frequent\" in a dictionary called `average_throughput`.\n",
    "Each entry uses the variant as key and the average throughput time as value. \n",
    "Which trace variant is the fastest (store the entry describing this variant in a variable called `fastest_variant`)? \n",
    "Respectively, which is the slowest (store its entry in `slowest_variant`)?"
   ]
  },
  {
   "cell_type": "code",
   "execution_count": null,
   "id": "6fa38ce70409fea9",
   "metadata": {
    "ExecuteTime": {
     "end_time": "2023-12-18T07:29:52.107381Z",
     "start_time": "2023-12-18T07:29:51.139898200Z"
    },
    "deletable": false,
    "jupyter": {
     "outputs_hidden": false
    },
    "nbgrader": {
     "cell_type": "code",
     "checksum": "31b06ae410893db9375c374b5b4acf00",
     "grade": true,
     "grade_id": "cell-8a29fd368260b962",
     "locked": false,
     "points": 3,
     "schema_version": 3,
     "solution": true,
     "task": false
    }
   },
   "outputs": [],
   "source": [
    "# YOUR CODE HERE"
   ]
  }
 ],
 "metadata": {
  "kernelspec": {
   "display_name": "Python 3 (ipykernel)",
   "language": "python",
   "name": "python3"
  },
  "language_info": {
   "codemirror_mode": {
    "name": "ipython",
    "version": 3
   },
   "file_extension": ".py",
   "mimetype": "text/x-python",
   "name": "python",
   "nbconvert_exporter": "python",
   "pygments_lexer": "ipython3",
   "version": "3.9.18"
  }
 },
 "nbformat": 4,
 "nbformat_minor": 5
}
