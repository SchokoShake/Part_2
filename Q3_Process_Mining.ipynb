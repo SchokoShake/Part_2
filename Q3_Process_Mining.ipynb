{
 "cells": [
  {
   "cell_type": "markdown",
   "id": "45a049de",
   "metadata": {
    "collapsed": false
   },
   "source": [
    "# Introduction into Data Science - Assignment Part II\n",
    "\n",
    "This is the second part of the assignment in IDS 2023/2024.\n",
    "\n",
    "This part of the assignment consists of five questions — each of these questions is contained in a separate Jupyter notebook:\n",
    "- [Question 1: Data Preprocessing](Q1_Preprocessing_Visualization.ipynb)\n",
    "- [Question 2: Association Rules](Q2_Frequent_Itemsets_Association_Rules.ipynb)\n",
    "- [Question 3: Process Mining](Q3_Process_Mining.ipynb)\n",
    "- [Question 4: Text Mining](Q4_Text_Mining.ipynb)\n",
    "- [Question 5: Big Data](Q5_Big_Data.ipynb)\n",
    "\n",
    "Additional required files are in two folders.\n",
    "- [datasets](datasets/)\n",
    "- [scripts](scripts/)\n",
    "\n",
    "Please use the provided notebook to work on the questions. When you are done, upload your version of each of the notebooks to Moodle. Your submission will, therefore, consist of five jupyter notebook and _no_ additional file. Any additionally provided files will not be considered in grading.\n",
    "Enter your commented Python code and answers in the corresponding cells. Make sure to answer all questions in a clear and explicit manner and discuss your outputs. _Please do not change the general structure of this notebook_. You can, however, add additional markdown or code cells if necessary. Please **DO NOT CLEAR THE OUTPUT** of the notebook you are submitting! Additionally, please ensure that the code in the notebook runs if placed in the same folder as all of the provided files, delivering the same outputs as the ones you submit in the notebook. This includes being runnable in the bundled conda environment.\n",
    "\n",
    "*Please make sure to include the names and matriculation numbers of all group members in the provided slots in each of the notebooks.* If a name or a student id is missing, the student will not receive any points.\n",
    "\n",
    "Hint 1: **Plan your time wisely.** A few parts of this assignment may take some time to run. It might be necessary to consider time management when you plan your group work. Also, do not attempt to upload your assignment at the last minute before the deadline. This often does not work, and you will miss the deadline. Late submissions will not be considered.\n",
    "\n",
    "Hint 2: RWTHMoodle allows multiple submissions, with every new submission overwriting the previous one. **Partial submissions are possible and encouraged.** This might be helpful in case of technical issues with RWTHMoodle, which may occur close to the deadline.\n",
    "\n",
    "Hint 3: As a technical note. Some IDEs such as DataSpell may automatically strip jupyter notebook cell metadata. If you are able, please re-add it from the source notebooks before submission. This is necessary for our grading."
   ]
  },
  {
   "cell_type": "markdown",
   "id": "56682b7f",
   "metadata": {},
   "source": [
    "Enter your group number and members with matriculation numbers below."
   ]
  },
  {
   "cell_type": "code",
   "execution_count": 3,
   "id": "459cd420",
   "metadata": {
    "ExecuteTime": {
     "end_time": "2023-12-12T14:39:43.463127500Z",
     "start_time": "2023-12-12T14:39:43.450885200Z"
    }
   },
   "outputs": [],
   "source": [
    "GROUP_NO = 112 # group number\n",
    "GROUP_MEMBERS = {\n",
    "    451963: \"Paul Väthjunker\", # mat. no. : name,\n",
    "    413004: \"Touyen Nguyenova\"\n",
    "}"
   ]
  },
  {
   "cell_type": "markdown",
   "id": "818bf893",
   "metadata": {},
   "source": [
    "---"
   ]
  },
  {
   "cell_type": "code",
   "execution_count": 4,
   "id": "f7f49eed-f3e6-49fa-9883-110e4292336a",
   "metadata": {
    "ExecuteTime": {
     "end_time": "2023-12-18T07:18:58.688863900Z",
     "start_time": "2023-12-18T07:18:55.000792900Z"
    },
    "deletable": false,
    "editable": false,
    "nbgrader": {
     "cell_type": "code",
     "checksum": "f9b3376fed93ef27fd601af86cb7f2f2",
     "grade": false,
     "grade_id": "cell-0917cb95176df237",
     "locked": true,
     "schema_version": 3,
     "solution": false,
     "task": false
    }
   },
   "outputs": [],
   "source": [
    "# required imports\n",
    "# please do not edit!\n",
    "import pandas as pd\n",
    "import pm4py\n",
    "import numpy as np\n",
    "import matplotlib.pyplot as plt\n",
    "from IPython.display import display"
   ]
  },
  {
   "cell_type": "markdown",
   "id": "9f3930c1130ebf55",
   "metadata": {
    "collapsed": false,
    "deletable": false,
    "editable": false,
    "jupyter": {
     "outputs_hidden": false
    },
    "nbgrader": {
     "cell_type": "markdown",
     "checksum": "f0f894babe3be2114c234e53b1ccc836",
     "grade": false,
     "grade_id": "cell-0c41981542fa1433",
     "locked": true,
     "schema_version": 3,
     "solution": false,
     "task": false
    }
   },
   "source": [
    "# Process Mining (23 points)\n",
    "Your \"Introduction into Data Science\" course at the PADS chair has made you curious about Process Mining. \n",
    "You decide that you want to get a deeper understanding of the learned concepts. To do so, you use PM4Py - the documentation of this library can be found at: [PM4Py documentation](https://pm4py.fit.fraunhofer.de/static/assets/api/2.7.5/api.html)"
   ]
  },
  {
   "cell_type": "markdown",
   "id": "c49fc5b6-65b1-4654-8334-7b15b1ebcf5a",
   "metadata": {
    "deletable": false,
    "editable": false,
    "nbgrader": {
     "cell_type": "markdown",
     "checksum": "1ade496bc5653662a9e873c086b9d910",
     "grade": false,
     "grade_id": "cell-509961347146dde0",
     "locked": true,
     "schema_version": 3,
     "solution": false,
     "task": false
    }
   },
   "source": [
    "## Part I: Implementation of Core Concepts (8 points)\n",
    "\n",
    "You find an event log describing how the individual groups of the second part of the IDS Assignment two years ago approached the tasks, as a CSV file called **event_log_pt1.csv**. \n",
    "Your friend points out that this seems like an ideal log to implement the things you learned in lecture on an easy-to-understand log."
   ]
  },
  {
   "cell_type": "markdown",
   "id": "9e9b6884-db90-40ed-ad83-66e4fef09f74",
   "metadata": {
    "deletable": false,
    "editable": false,
    "nbgrader": {
     "cell_type": "markdown",
     "checksum": "ce12338872fb5e44edc8a8524c36a671",
     "grade": false,
     "grade_id": "cell-8603f5fd1f87d0f9",
     "locked": true,
     "points": 0,
     "schema_version": 3,
     "solution": false,
     "task": true
    }
   },
   "source": [
    "#### a)\n",
    "You begin by loading the event log into a variable called `log_groups`. \n",
    "The event log should be imported as a pandas dataframe which is a PM4Py suitable data format and compute the following variables:\n",
    "* `case_count`: How many groups took Part II of the assignment in Wintersemester 2021/2022?\n",
    "* `activity_count`: How many unique activities were logged? \n",
    "\n"
   ]
  },
  {
   "cell_type": "code",
   "execution_count": 5,
   "id": "1359e8deacd94fe7",
   "metadata": {
    "ExecuteTime": {
     "end_time": "2023-12-18T07:19:02.749521100Z",
     "start_time": "2023-12-18T07:19:02.691987600Z"
    },
    "deletable": false,
    "jupyter": {
     "outputs_hidden": false
    },
    "nbgrader": {
     "cell_type": "code",
     "checksum": "9080d01a18798fd0ff437d074f4533d4",
     "grade": true,
     "grade_id": "cell-449c53e3dc45368e",
     "locked": false,
     "points": 2,
     "schema_version": 3,
     "solution": true,
     "task": false
    }
   },
   "outputs": [
    {
     "name": "stdout",
     "output_type": "stream",
     "text": [
      "Case count:  516\n",
      "Activity count:  8\n"
     ]
    }
   ],
   "source": [
    "# YOUR CODE HERE\n",
    "log_groups = pd.read_csv(\"datasets/q3_event_log_pt1.csv\")\n",
    "log_groups = pm4py.format_dataframe(log_groups, case_id='Group Number', activity_key='Activity', timestamp_key='Timestamp')\n",
    "\n",
    "\n",
    "case_count=len(log_groups[\"Group Number\"].unique())\n",
    "print(\"Case count: \",case_count)\n",
    "activity_count=len(log_groups[\"Activity\"].unique())\n",
    "print(\"Activity count: \",activity_count)\n",
    "\n"
   ]
  },
  {
   "cell_type": "markdown",
   "id": "27830baa-f416-4df3-aacf-f3af0f26ae0e",
   "metadata": {
    "deletable": false,
    "editable": false,
    "nbgrader": {
     "cell_type": "markdown",
     "checksum": "b88354d508ebc9844f97403276b6d2dc",
     "grade": false,
     "grade_id": "cell-dcfc7459e0cadbe8",
     "locked": true,
     "points": 0,
     "schema_version": 3,
     "solution": false,
     "task": true
    }
   },
   "source": [
    "Given the low number of activities, you decide to plot the directly-follows graph and manually detect the first cut the Inductive Miner would apply.\n",
    "\n",
    "#### b)\n",
    "Use PM4Py to create the directly follows graph, using `dfg` as variable name for the graph structure, `start_act` as variable name for the start activities, and `end_act` for the final activities. Show the directly-follows graph.\n"
   ]
  },
  {
   "cell_type": "code",
   "execution_count": 6,
   "id": "1403fc9fc8847f9c",
   "metadata": {
    "ExecuteTime": {
     "end_time": "2023-12-18T06:29:56.541779200Z",
     "start_time": "2023-12-18T06:29:52.997363500Z"
    },
    "deletable": false,
    "jupyter": {
     "outputs_hidden": false
    },
    "nbgrader": {
     "cell_type": "code",
     "checksum": "6173c7be7ff64930d8f0a4d9e20d09a0",
     "grade": true,
     "grade_id": "cell-b725648564efa3a5",
     "locked": false,
     "points": 2,
     "schema_version": 3,
     "solution": true,
     "task": false
    }
   },
   "outputs": [
    {
     "data": {
      "image/png": "[encoded data removed]",
      "text/plain": [
       "<IPython.core.display.Image object>"
      ]
     },
     "metadata": {},
     "output_type": "display_data"
    }
   ],
   "source": [
    "# YOUR CODE HERE\n",
    "dfg, start_act, end_act = pm4py.discover_dfg_typed(log_groups)\n",
    "pm4py.view_dfg(dfg=dfg, start_activities=start_act, end_activities=end_act)"
   ]
  },
  {
   "cell_type": "markdown",
   "id": "36369ef11c65ea06",
   "metadata": {
    "collapsed": false,
    "deletable": false,
    "editable": false,
    "jupyter": {
     "outputs_hidden": false
    },
    "nbgrader": {
     "cell_type": "markdown",
     "checksum": "e8fc6a295e03319aa435f6e0b45e23e9",
     "grade": false,
     "grade_id": "cell-b1e3e57ca23c628a",
     "locked": true,
     "schema_version": 3,
     "solution": false,
     "task": false
    }
   },
   "source": [
    "#### c)\n",
    "Based on the DFG, name the first type of cut that is identified by the Inductive Miner. Briefly explain why this is the correct cut.\n",
    "\n",
    "*Hint: You can of course also use other functionalities of PM4Py to identify the cut. Nevertheless, your submitted notebook is expected to contain the DFG.*\n"
   ]
  },
  {
   "cell_type": "markdown",
   "id": "9ec27f80-46fb-449c-97bc-13a236e65c42",
   "metadata": {
    "deletable": false,
    "nbgrader": {
     "cell_type": "markdown",
     "checksum": "20ae3f76a27dd72e2bd3823dff0757b3",
     "grade": true,
     "grade_id": "cell-60ec64c813cf7a3b",
     "locked": false,
     "points": 0.5,
     "schema_version": 3,
     "solution": true,
     "task": false
    }
   },
   "source": [
    "__Student Answer:__  The first cut is a sequence cut. This is correct as the first activities are always in the same order."
   ]
  },
  {
   "cell_type": "markdown",
   "id": "aa47ccb935bc1b58",
   "metadata": {
    "collapsed": false,
    "deletable": false,
    "editable": false,
    "jupyter": {
     "outputs_hidden": false
    },
    "nbgrader": {
     "cell_type": "markdown",
     "checksum": "38d9c6221fd5e48744724c8144becdd8",
     "grade": false,
     "grade_id": "cell-fb2bf173179ff828",
     "locked": true,
     "schema_version": 3,
     "solution": false,
     "task": false
    }
   },
   "source": [
    "#### d)\n",
    "Give the activity-partitions as a list and store it into a variable called `first_cut_partitions`. This list should include at least two sets containing only activity names (no start or end).\n",
    "Note, that the number of partitions depends on the maximum cut you identified.\n",
    "\n",
    "For example, `[{\"c\",\"d\"}, {\"a\",\"b\"}]` indicates two partitions: one with a and b and the other with c and d."
   ]
  },
  {
   "cell_type": "code",
   "execution_count": 7,
   "id": "2ae46787a50d7e8a",
   "metadata": {
    "ExecuteTime": {
     "end_time": "2023-12-18T06:29:56.589394800Z",
     "start_time": "2023-12-18T06:29:56.571045200Z"
    },
    "deletable": false,
    "jupyter": {
     "outputs_hidden": false
    },
    "nbgrader": {
     "cell_type": "code",
     "checksum": "99b8ab2ae94326754bc2024102f6d5b5",
     "grade": true,
     "grade_id": "cell-61be48a24f829a6d",
     "locked": false,
     "points": 1,
     "schema_version": 3,
     "solution": true,
     "task": false
    }
   },
   "outputs": [
    {
     "data": {
      "text/plain": [
       "[{'First download of assignment', 'Revisit PM Exercise in Moodle'},\n",
       " {'Coordinate with Assignment Group',\n",
       "  'Recheck/Compare Task Results',\n",
       "  'Redo Task(s)',\n",
       "  'Solve tasks individually',\n",
       "  'Solve tasks together',\n",
       "  'Submit results'}]"
      ]
     },
     "execution_count": 7,
     "metadata": {},
     "output_type": "execute_result"
    }
   ],
   "source": [
    "# YOUR CODE HERE\n",
    "\n",
    "first_cut_partitions=[{'First download of assignment','Revisit PM Exercise in Moodle',},{'Coordinate with Assignment Group','Recheck/Compare Task Results','Solve tasks individually','Solve tasks together','Redo Task(s)','Submit results'}]\n",
    "first_cut_partitions\n",
    "\n"
   ]
  },
  {
   "cell_type": "markdown",
   "id": "9dcf84794c1e2554",
   "metadata": {
    "collapsed": false,
    "deletable": false,
    "editable": false,
    "jupyter": {
     "outputs_hidden": false
    },
    "nbgrader": {
     "cell_type": "markdown",
     "checksum": "cde8fdd363f0bcba1370a93c36a87f4d",
     "grade": false,
     "grade_id": "cell-6c9f1b5c94ea192f",
     "locked": true,
     "schema_version": 3,
     "solution": false,
     "task": false
    }
   },
   "source": [
    "#### e)\n",
    "Having identified the cut, split the event log accordingly. \n",
    "Create five variables, called `sub_log_groups1`, `sub_log_groups2`, `sub_log_groups3`, `sub_log_groups4`, and `sub_log_groups5`. \n",
    "Create the sublog for each of your identified partitions and store it in one of the variables. Assign `None` to all variables you don't use."
   ]
  },
  {
   "cell_type": "code",
   "execution_count": 8,
   "id": "16dc85ce46bbcbfe",
   "metadata": {
    "ExecuteTime": {
     "end_time": "2023-12-18T06:29:56.723754Z",
     "start_time": "2023-12-18T06:29:56.637869200Z"
    },
    "deletable": false,
    "jupyter": {
     "outputs_hidden": false
    },
    "nbgrader": {
     "cell_type": "code",
     "checksum": "7b9775f789010a0d497eb6022f9045f9",
     "grade": false,
     "grade_id": "cell-2ec54acf306e7369",
     "locked": false,
     "schema_version": 3,
     "solution": true,
     "task": false
    }
   },
   "outputs": [
    {
     "data": {
      "text/html": [
       "<div>\n",
       "<style scoped>\n",
       "    .dataframe tbody tr th:only-of-type {\n",
       "        vertical-align: middle;\n",
       "    }\n",
       "\n",
       "    .dataframe tbody tr th {\n",
       "        vertical-align: top;\n",
       "    }\n",
       "\n",
       "    .dataframe thead th {\n",
       "        text-align: right;\n",
       "    }\n",
       "</style>\n",
       "<table border=\"1\" class=\"dataframe\">\n",
       "  <thead>\n",
       "    <tr style=\"text-align: right;\">\n",
       "      <th></th>\n",
       "      <th>Group Number</th>\n",
       "      <th>Activity</th>\n",
       "      <th>Timestamp</th>\n",
       "      <th>case:concept:name</th>\n",
       "      <th>concept:name</th>\n",
       "      <th>time:timestamp</th>\n",
       "      <th>@@index</th>\n",
       "      <th>@@case_index</th>\n",
       "    </tr>\n",
       "  </thead>\n",
       "  <tbody>\n",
       "    <tr>\n",
       "      <th>0</th>\n",
       "      <td>1</td>\n",
       "      <td>First download of assignment</td>\n",
       "      <td>2021-12-09 07:30:00+00:00</td>\n",
       "      <td>1</td>\n",
       "      <td>First download of assignment</td>\n",
       "      <td>2021-12-09 07:30:00+00:00</td>\n",
       "      <td>0</td>\n",
       "      <td>0</td>\n",
       "    </tr>\n",
       "    <tr>\n",
       "      <th>1</th>\n",
       "      <td>1</td>\n",
       "      <td>Revisit PM Exercise in Moodle</td>\n",
       "      <td>2021-12-09 14:55:00+00:00</td>\n",
       "      <td>1</td>\n",
       "      <td>Revisit PM Exercise in Moodle</td>\n",
       "      <td>2021-12-09 14:55:00+00:00</td>\n",
       "      <td>1</td>\n",
       "      <td>0</td>\n",
       "    </tr>\n",
       "    <tr>\n",
       "      <th>9</th>\n",
       "      <td>100</td>\n",
       "      <td>First download of assignment</td>\n",
       "      <td>2021-12-22 07:30:00+00:00</td>\n",
       "      <td>100</td>\n",
       "      <td>First download of assignment</td>\n",
       "      <td>2021-12-22 07:30:00+00:00</td>\n",
       "      <td>9</td>\n",
       "      <td>1</td>\n",
       "    </tr>\n",
       "    <tr>\n",
       "      <th>10</th>\n",
       "      <td>100</td>\n",
       "      <td>Revisit PM Exercise in Moodle</td>\n",
       "      <td>2021-12-22 13:36:00+00:00</td>\n",
       "      <td>100</td>\n",
       "      <td>Revisit PM Exercise in Moodle</td>\n",
       "      <td>2021-12-22 13:36:00+00:00</td>\n",
       "      <td>10</td>\n",
       "      <td>1</td>\n",
       "    </tr>\n",
       "    <tr>\n",
       "      <th>15</th>\n",
       "      <td>102</td>\n",
       "      <td>First download of assignment</td>\n",
       "      <td>2021-12-22 07:30:00+00:00</td>\n",
       "      <td>102</td>\n",
       "      <td>First download of assignment</td>\n",
       "      <td>2021-12-22 07:30:00+00:00</td>\n",
       "      <td>15</td>\n",
       "      <td>2</td>\n",
       "    </tr>\n",
       "    <tr>\n",
       "      <th>...</th>\n",
       "      <td>...</td>\n",
       "      <td>...</td>\n",
       "      <td>...</td>\n",
       "      <td>...</td>\n",
       "      <td>...</td>\n",
       "      <td>...</td>\n",
       "      <td>...</td>\n",
       "      <td>...</td>\n",
       "    </tr>\n",
       "    <tr>\n",
       "      <th>3490</th>\n",
       "      <td>97</td>\n",
       "      <td>Revisit PM Exercise in Moodle</td>\n",
       "      <td>2021-12-22 08:11:00+00:00</td>\n",
       "      <td>97</td>\n",
       "      <td>Revisit PM Exercise in Moodle</td>\n",
       "      <td>2021-12-22 08:11:00+00:00</td>\n",
       "      <td>3490</td>\n",
       "      <td>513</td>\n",
       "    </tr>\n",
       "    <tr>\n",
       "      <th>3495</th>\n",
       "      <td>98</td>\n",
       "      <td>First download of assignment</td>\n",
       "      <td>2021-12-22 07:30:00+00:00</td>\n",
       "      <td>98</td>\n",
       "      <td>First download of assignment</td>\n",
       "      <td>2021-12-22 07:30:00+00:00</td>\n",
       "      <td>3495</td>\n",
       "      <td>514</td>\n",
       "    </tr>\n",
       "    <tr>\n",
       "      <th>3496</th>\n",
       "      <td>98</td>\n",
       "      <td>Revisit PM Exercise in Moodle</td>\n",
       "      <td>2021-12-22 16:09:00+00:00</td>\n",
       "      <td>98</td>\n",
       "      <td>Revisit PM Exercise in Moodle</td>\n",
       "      <td>2021-12-22 16:09:00+00:00</td>\n",
       "      <td>3496</td>\n",
       "      <td>514</td>\n",
       "    </tr>\n",
       "    <tr>\n",
       "      <th>3501</th>\n",
       "      <td>99</td>\n",
       "      <td>First download of assignment</td>\n",
       "      <td>2021-12-22 07:30:00+00:00</td>\n",
       "      <td>99</td>\n",
       "      <td>First download of assignment</td>\n",
       "      <td>2021-12-22 07:30:00+00:00</td>\n",
       "      <td>3501</td>\n",
       "      <td>515</td>\n",
       "    </tr>\n",
       "    <tr>\n",
       "      <th>3502</th>\n",
       "      <td>99</td>\n",
       "      <td>Revisit PM Exercise in Moodle</td>\n",
       "      <td>2021-12-22 17:12:00+00:00</td>\n",
       "      <td>99</td>\n",
       "      <td>Revisit PM Exercise in Moodle</td>\n",
       "      <td>2021-12-22 17:12:00+00:00</td>\n",
       "      <td>3502</td>\n",
       "      <td>515</td>\n",
       "    </tr>\n",
       "  </tbody>\n",
       "</table>\n",
       "<p>1032 rows × 8 columns</p>\n",
       "</div>"
      ],
      "text/plain": [
       "      Group Number                       Activity                 Timestamp  \\\n",
       "0                1   First download of assignment 2021-12-09 07:30:00+00:00   \n",
       "1                1  Revisit PM Exercise in Moodle 2021-12-09 14:55:00+00:00   \n",
       "9              100   First download of assignment 2021-12-22 07:30:00+00:00   \n",
       "10             100  Revisit PM Exercise in Moodle 2021-12-22 13:36:00+00:00   \n",
       "15             102   First download of assignment 2021-12-22 07:30:00+00:00   \n",
       "...            ...                            ...                       ...   \n",
       "3490            97  Revisit PM Exercise in Moodle 2021-12-22 08:11:00+00:00   \n",
       "3495            98   First download of assignment 2021-12-22 07:30:00+00:00   \n",
       "3496            98  Revisit PM Exercise in Moodle 2021-12-22 16:09:00+00:00   \n",
       "3501            99   First download of assignment 2021-12-22 07:30:00+00:00   \n",
       "3502            99  Revisit PM Exercise in Moodle 2021-12-22 17:12:00+00:00   \n",
       "\n",
       "     case:concept:name                   concept:name  \\\n",
       "0                    1   First download of assignment   \n",
       "1                    1  Revisit PM Exercise in Moodle   \n",
       "9                  100   First download of assignment   \n",
       "10                 100  Revisit PM Exercise in Moodle   \n",
       "15                 102   First download of assignment   \n",
       "...                ...                            ...   \n",
       "3490                97  Revisit PM Exercise in Moodle   \n",
       "3495                98   First download of assignment   \n",
       "3496                98  Revisit PM Exercise in Moodle   \n",
       "3501                99   First download of assignment   \n",
       "3502                99  Revisit PM Exercise in Moodle   \n",
       "\n",
       "                time:timestamp  @@index  @@case_index  \n",
       "0    2021-12-09 07:30:00+00:00        0             0  \n",
       "1    2021-12-09 14:55:00+00:00        1             0  \n",
       "9    2021-12-22 07:30:00+00:00        9             1  \n",
       "10   2021-12-22 13:36:00+00:00       10             1  \n",
       "15   2021-12-22 07:30:00+00:00       15             2  \n",
       "...                        ...      ...           ...  \n",
       "3490 2021-12-22 08:11:00+00:00     3490           513  \n",
       "3495 2021-12-22 07:30:00+00:00     3495           514  \n",
       "3496 2021-12-22 16:09:00+00:00     3496           514  \n",
       "3501 2021-12-22 07:30:00+00:00     3501           515  \n",
       "3502 2021-12-22 17:12:00+00:00     3502           515  \n",
       "\n",
       "[1032 rows x 8 columns]"
      ]
     },
     "execution_count": 8,
     "metadata": {},
     "output_type": "execute_result"
    }
   ],
   "source": [
    "\n",
    "sub_log_groups1 = ... # either sublog (aka dataframe) or None\n",
    "sub_log_groups2 = ... # either sublog (aka dataframe) or None\n",
    "sub_log_groups3 = ... # either sublog (aka dataframe) or None\n",
    "sub_log_groups4 = ... # either sublog (aka dataframe) or None\n",
    "sub_log_groups5 = ... # either sublog (aka dataframe) or None\n",
    "# YOUR CODE HERE\n",
    "\n",
    "sub_logs = []\n",
    "for partition in first_cut_partitions:\n",
    "    sub_log = log_groups[log_groups['Activity'].isin(partition)]\n",
    "    sub_logs.append(sub_log)\n",
    "    \n",
    "sub_log_groups1 = sub_logs[0] if len(sub_logs) > 0 else None\n",
    "sub_log_groups2 = sub_logs[1] if len(sub_logs) > 1 else None\n",
    "sub_log_groups3 = None\n",
    "sub_log_groups4 = None\n",
    "sub_log_groups5 = None\n",
    "\n",
    "sub_log_groups1"
   ]
  },
  {
   "cell_type": "code",
   "execution_count": 9,
   "id": "f0b16c08-058a-4b86-a4c0-c40196a280f8",
   "metadata": {
    "ExecuteTime": {
     "end_time": "2023-12-18T06:29:56.801736200Z",
     "start_time": "2023-12-18T06:29:56.760452300Z"
    },
    "deletable": false,
    "editable": false,
    "nbgrader": {
     "cell_type": "code",
     "checksum": "9055048863cb4cc747c2504ac5d2cf20",
     "grade": true,
     "grade_id": "cell-78741f7cbe58fd97",
     "locked": true,
     "points": 3,
     "schema_version": 3,
     "solution": false,
     "task": false
    }
   },
   "outputs": [],
   "source": [
    "# Please leave this cell empty - used for grading."
   ]
  },
  {
   "cell_type": "markdown",
   "id": "07049519-30c4-4978-a7a0-5bdebd0143b5",
   "metadata": {
    "deletable": false,
    "editable": false,
    "nbgrader": {
     "cell_type": "markdown",
     "checksum": "20148fd60118ac733e20e20e5b23cca3",
     "grade": false,
     "grade_id": "cell-f7b655bbbfd03aa4",
     "locked": true,
     "schema_version": 3,
     "solution": false,
     "task": false
    }
   },
   "source": [
    " ## Part II: Generating Process Insights (16 Points)  \n",
    "After having applied some of the learned process mining techniques to a proper event log, you notice that you enjoy working with event data and feel a lot more confident with your skills. \n",
    "For this reason, you decide to found a student association to offer students the opportunity to gain experience in Process Mining by executing projects with non-profit organisations and communal services. \n",
    "Your first project is with the municipality to evaluate how they deal with filed requests from citizens."
   ]
  },
  {
   "cell_type": "markdown",
   "id": "c61eee0f-ce72-44b5-b424-bec7d85d4efc",
   "metadata": {
    "deletable": false,
    "editable": false,
    "nbgrader": {
     "cell_type": "markdown",
     "checksum": "56e044e98fbcaeca2883a15a5c743276",
     "grade": false,
     "grade_id": "cell-5370e9b2a3bfa041",
     "locked": true,
     "schema_version": 3,
     "solution": false,
     "task": false
    }
   },
   "source": [
    "#### a)\n",
    "Load the municipality's fully anonymized event log **q3_event_log_pt2.xes** into a variable called `sa_log` using PM4Py and display the first 20 rows of the dataframe. \n",
    "Create and display the following statistics and save them in the corresponding variable names:  \n",
    "* `sa_event_count` The number of events in the log.  \n",
    "* `sa_case_count`: The number of cases in the log."
   ]
  },
  {
   "cell_type": "code",
   "execution_count": 10,
   "id": "f16772fe21ff129c",
   "metadata": {
    "ExecuteTime": {
     "end_time": "2023-12-18T07:19:24.272965700Z",
     "start_time": "2023-12-18T07:19:22.373699200Z"
    },
    "deletable": false,
    "jupyter": {
     "outputs_hidden": false
    },
    "nbgrader": {
     "cell_type": "code",
     "checksum": "b8765e91b02f57d144bf3e8943ab7097",
     "grade": true,
     "grade_id": "cell-262ee8fe893b3dca",
     "locked": false,
     "points": 1.5,
     "schema_version": 3,
     "solution": true,
     "task": false
    }
   },
   "outputs": [
    {
     "name": "stderr",
     "output_type": "stream",
     "text": [
      "c:\\Users\\metoo\\miniconda3\\envs\\P2env-ids-ws23\\lib\\site-packages\\pm4py\\util\\dt_parsing\\parser.py:77: UserWarning: ISO8601 strings are not fully supported with strpfromiso for Python versions below 3.11\n",
      "  warnings.warn(\n"
     ]
    },
    {
     "data": {
      "application/vnd.jupyter.widget-view+json": {
       "model_id": "d8d338dc3aa746039769ad430362d038",
       "version_major": 2,
       "version_minor": 0
      },
      "text/plain": [
       "parsing log, completed traces ::   0%|          | 0/4580 [00:00<?, ?it/s]"
      ]
     },
     "metadata": {},
     "output_type": "display_data"
    },
    {
     "name": "stdout",
     "output_type": "stream",
     "text": [
      "Number of events:  21348\n",
      "Number of cases:  4580\n"
     ]
    },
    {
     "data": {
      "text/html": [
       "<div>\n",
       "<style scoped>\n",
       "    .dataframe tbody tr th:only-of-type {\n",
       "        vertical-align: middle;\n",
       "    }\n",
       "\n",
       "    .dataframe tbody tr th {\n",
       "        vertical-align: top;\n",
       "    }\n",
       "\n",
       "    .dataframe thead th {\n",
       "        text-align: right;\n",
       "    }\n",
       "</style>\n",
       "<table border=\"1\" class=\"dataframe\">\n",
       "  <thead>\n",
       "    <tr style=\"text-align: right;\">\n",
       "      <th></th>\n",
       "      <th>service_type</th>\n",
       "      <th>workgroup</th>\n",
       "      <th>citizen_no</th>\n",
       "      <th>service_level</th>\n",
       "      <th>concept:name</th>\n",
       "      <th>service</th>\n",
       "      <th>responsible_department</th>\n",
       "      <th>time:timestamp</th>\n",
       "      <th>lifecycle:transition</th>\n",
       "      <th>case:concept:name</th>\n",
       "      <th>@@index</th>\n",
       "      <th>@@case_index</th>\n",
       "    </tr>\n",
       "  </thead>\n",
       "  <tbody>\n",
       "    <tr>\n",
       "      <th>0</th>\n",
       "      <td>Service Type 1</td>\n",
       "      <td>Group 1</td>\n",
       "      <td>0052211</td>\n",
       "      <td>Level 1</td>\n",
       "      <td>Assign priority</td>\n",
       "      <td>Service 1</td>\n",
       "      <td>Department 1</td>\n",
       "      <td>2012-10-09 12:50:17+00:00</td>\n",
       "      <td>complete</td>\n",
       "      <td>Case 1</td>\n",
       "      <td>0</td>\n",
       "      <td>0</td>\n",
       "    </tr>\n",
       "    <tr>\n",
       "      <th>1</th>\n",
       "      <td>Service Type 1</td>\n",
       "      <td>Group 1</td>\n",
       "      <td>0052211</td>\n",
       "      <td>Level 1</td>\n",
       "      <td>Begin resolving</td>\n",
       "      <td>Service 1</td>\n",
       "      <td>Department 1</td>\n",
       "      <td>2012-10-09 12:51:01+00:00</td>\n",
       "      <td>complete</td>\n",
       "      <td>Case 1</td>\n",
       "      <td>1</td>\n",
       "      <td>0</td>\n",
       "    </tr>\n",
       "    <tr>\n",
       "      <th>2</th>\n",
       "      <td>Service Type 1</td>\n",
       "      <td>Group 1</td>\n",
       "      <td>0052211</td>\n",
       "      <td>Level 2</td>\n",
       "      <td>Begin resolving</td>\n",
       "      <td>Service 1</td>\n",
       "      <td>Department 1</td>\n",
       "      <td>2012-10-12 13:02:56+00:00</td>\n",
       "      <td>complete</td>\n",
       "      <td>Case 1</td>\n",
       "      <td>2</td>\n",
       "      <td>0</td>\n",
       "    </tr>\n",
       "    <tr>\n",
       "      <th>3</th>\n",
       "      <td>Service Type 1</td>\n",
       "      <td>Group 1</td>\n",
       "      <td>0052211</td>\n",
       "      <td>Level 2</td>\n",
       "      <td>Notify citizen about resolution</td>\n",
       "      <td>Service 1</td>\n",
       "      <td>Department 1</td>\n",
       "      <td>2012-10-25 09:54:26+00:00</td>\n",
       "      <td>complete</td>\n",
       "      <td>Case 1</td>\n",
       "      <td>3</td>\n",
       "      <td>0</td>\n",
       "    </tr>\n",
       "    <tr>\n",
       "      <th>4</th>\n",
       "      <td>Service Type 1</td>\n",
       "      <td>Group 1</td>\n",
       "      <td>0052211</td>\n",
       "      <td>Level 2</td>\n",
       "      <td>Archive request</td>\n",
       "      <td>Service 1</td>\n",
       "      <td>Department 1</td>\n",
       "      <td>2012-11-09 11:54:39+00:00</td>\n",
       "      <td>complete</td>\n",
       "      <td>Case 1</td>\n",
       "      <td>4</td>\n",
       "      <td>0</td>\n",
       "    </tr>\n",
       "    <tr>\n",
       "      <th>5</th>\n",
       "      <td>Service Type 1</td>\n",
       "      <td>Group 3</td>\n",
       "      <td>00522110</td>\n",
       "      <td>Level 3</td>\n",
       "      <td>Assign priority</td>\n",
       "      <td>Service 3</td>\n",
       "      <td>Department 2</td>\n",
       "      <td>2010-02-10 07:50:20+00:00</td>\n",
       "      <td>complete</td>\n",
       "      <td>Case 10</td>\n",
       "      <td>5</td>\n",
       "      <td>1</td>\n",
       "    </tr>\n",
       "    <tr>\n",
       "      <th>6</th>\n",
       "      <td>Service Type 1</td>\n",
       "      <td>Group 3</td>\n",
       "      <td>00522110</td>\n",
       "      <td>Level 3</td>\n",
       "      <td>Begin resolving</td>\n",
       "      <td>Service 3</td>\n",
       "      <td>Department 2</td>\n",
       "      <td>2010-03-19 07:47:06+00:00</td>\n",
       "      <td>complete</td>\n",
       "      <td>Case 10</td>\n",
       "      <td>6</td>\n",
       "      <td>1</td>\n",
       "    </tr>\n",
       "    <tr>\n",
       "      <th>7</th>\n",
       "      <td>Service Type 1</td>\n",
       "      <td>Group 3</td>\n",
       "      <td>00522110</td>\n",
       "      <td>Level 3</td>\n",
       "      <td>Notify citizen about resolution</td>\n",
       "      <td>Service 3</td>\n",
       "      <td>Department 2</td>\n",
       "      <td>2010-03-19 07:47:13+00:00</td>\n",
       "      <td>complete</td>\n",
       "      <td>Case 10</td>\n",
       "      <td>7</td>\n",
       "      <td>1</td>\n",
       "    </tr>\n",
       "    <tr>\n",
       "      <th>8</th>\n",
       "      <td>Service Type 1</td>\n",
       "      <td>Group 3</td>\n",
       "      <td>00522110</td>\n",
       "      <td>Level 3</td>\n",
       "      <td>Archive request</td>\n",
       "      <td>Service 3</td>\n",
       "      <td>Department 2</td>\n",
       "      <td>2010-04-03 05:47:38+00:00</td>\n",
       "      <td>complete</td>\n",
       "      <td>Case 10</td>\n",
       "      <td>8</td>\n",
       "      <td>1</td>\n",
       "    </tr>\n",
       "    <tr>\n",
       "      <th>9</th>\n",
       "      <td>Service Type 1</td>\n",
       "      <td>Group 1</td>\n",
       "      <td>00522144</td>\n",
       "      <td>Level 2</td>\n",
       "      <td>Assign priority</td>\n",
       "      <td>Service 1</td>\n",
       "      <td>Department 1</td>\n",
       "      <td>2013-04-12 08:25:17+00:00</td>\n",
       "      <td>complete</td>\n",
       "      <td>Case 100</td>\n",
       "      <td>9</td>\n",
       "      <td>2</td>\n",
       "    </tr>\n",
       "    <tr>\n",
       "      <th>10</th>\n",
       "      <td>Service Type 1</td>\n",
       "      <td>Group 1</td>\n",
       "      <td>00522144</td>\n",
       "      <td>Level 2</td>\n",
       "      <td>Begin resolving</td>\n",
       "      <td>Service 1</td>\n",
       "      <td>Department 1</td>\n",
       "      <td>2013-04-24 08:24:01+00:00</td>\n",
       "      <td>complete</td>\n",
       "      <td>Case 100</td>\n",
       "      <td>10</td>\n",
       "      <td>2</td>\n",
       "    </tr>\n",
       "    <tr>\n",
       "      <th>11</th>\n",
       "      <td>Service Type 1</td>\n",
       "      <td>Group 1</td>\n",
       "      <td>00522144</td>\n",
       "      <td>Level 2</td>\n",
       "      <td>Escalate</td>\n",
       "      <td>Service 1</td>\n",
       "      <td>Department 1</td>\n",
       "      <td>2013-04-24 13:51:11+00:00</td>\n",
       "      <td>complete</td>\n",
       "      <td>Case 100</td>\n",
       "      <td>11</td>\n",
       "      <td>2</td>\n",
       "    </tr>\n",
       "    <tr>\n",
       "      <th>12</th>\n",
       "      <td>Service Type 1</td>\n",
       "      <td>Group 1</td>\n",
       "      <td>00522144</td>\n",
       "      <td>Level 2</td>\n",
       "      <td>Notify citizen about resolution</td>\n",
       "      <td>Service 1</td>\n",
       "      <td>Department 1</td>\n",
       "      <td>2013-05-15 11:21:00+00:00</td>\n",
       "      <td>complete</td>\n",
       "      <td>Case 100</td>\n",
       "      <td>12</td>\n",
       "      <td>2</td>\n",
       "    </tr>\n",
       "    <tr>\n",
       "      <th>13</th>\n",
       "      <td>Service Type 1</td>\n",
       "      <td>Group 1</td>\n",
       "      <td>00522144</td>\n",
       "      <td>Level 2</td>\n",
       "      <td>Archive request</td>\n",
       "      <td>Service 1</td>\n",
       "      <td>Department 1</td>\n",
       "      <td>2013-05-30 11:21:20+00:00</td>\n",
       "      <td>complete</td>\n",
       "      <td>Case 100</td>\n",
       "      <td>13</td>\n",
       "      <td>2</td>\n",
       "    </tr>\n",
       "    <tr>\n",
       "      <th>14</th>\n",
       "      <td>Service Type 1</td>\n",
       "      <td>Group 1</td>\n",
       "      <td>00522192</td>\n",
       "      <td>Level 2</td>\n",
       "      <td>Assign priority</td>\n",
       "      <td>Service 3</td>\n",
       "      <td>Department 4</td>\n",
       "      <td>2010-01-21 07:53:28+00:00</td>\n",
       "      <td>complete</td>\n",
       "      <td>Case 1000</td>\n",
       "      <td>14</td>\n",
       "      <td>3</td>\n",
       "    </tr>\n",
       "    <tr>\n",
       "      <th>15</th>\n",
       "      <td>Service Type 1</td>\n",
       "      <td>Group 1</td>\n",
       "      <td>00522192</td>\n",
       "      <td>Level 2</td>\n",
       "      <td>Assign priority</td>\n",
       "      <td>Service 3</td>\n",
       "      <td>Department 4</td>\n",
       "      <td>2010-01-21 07:53:34+00:00</td>\n",
       "      <td>complete</td>\n",
       "      <td>Case 1000</td>\n",
       "      <td>15</td>\n",
       "      <td>3</td>\n",
       "    </tr>\n",
       "    <tr>\n",
       "      <th>16</th>\n",
       "      <td>Service Type 1</td>\n",
       "      <td>Group 1</td>\n",
       "      <td>00522192</td>\n",
       "      <td>Level 2</td>\n",
       "      <td>Begin resolving</td>\n",
       "      <td>Service 3</td>\n",
       "      <td>Department 4</td>\n",
       "      <td>2010-01-21 07:53:40+00:00</td>\n",
       "      <td>complete</td>\n",
       "      <td>Case 1000</td>\n",
       "      <td>16</td>\n",
       "      <td>3</td>\n",
       "    </tr>\n",
       "    <tr>\n",
       "      <th>17</th>\n",
       "      <td>Service Type 1</td>\n",
       "      <td>Group 1</td>\n",
       "      <td>00522192</td>\n",
       "      <td>Level 2</td>\n",
       "      <td>Notify citizen about resolution</td>\n",
       "      <td>Service 3</td>\n",
       "      <td>Department 4</td>\n",
       "      <td>2010-01-26 13:06:53+00:00</td>\n",
       "      <td>complete</td>\n",
       "      <td>Case 1000</td>\n",
       "      <td>17</td>\n",
       "      <td>3</td>\n",
       "    </tr>\n",
       "    <tr>\n",
       "      <th>18</th>\n",
       "      <td>Service Type 1</td>\n",
       "      <td>Group 1</td>\n",
       "      <td>00522192</td>\n",
       "      <td>Level 2</td>\n",
       "      <td>Archive request</td>\n",
       "      <td>Service 3</td>\n",
       "      <td>Department 4</td>\n",
       "      <td>2010-03-06 08:00:57+00:00</td>\n",
       "      <td>complete</td>\n",
       "      <td>Case 1000</td>\n",
       "      <td>18</td>\n",
       "      <td>3</td>\n",
       "    </tr>\n",
       "    <tr>\n",
       "      <th>19</th>\n",
       "      <td>Service Type 1</td>\n",
       "      <td>Group 1</td>\n",
       "      <td>005221239</td>\n",
       "      <td>Level 2</td>\n",
       "      <td>Assign priority</td>\n",
       "      <td>Service 2</td>\n",
       "      <td>Department 1</td>\n",
       "      <td>2013-03-08 16:01:24+00:00</td>\n",
       "      <td>complete</td>\n",
       "      <td>Case 1001</td>\n",
       "      <td>19</td>\n",
       "      <td>4</td>\n",
       "    </tr>\n",
       "  </tbody>\n",
       "</table>\n",
       "</div>"
      ],
      "text/plain": [
       "      service_type workgroup citizen_no service_level  \\\n",
       "0   Service Type 1   Group 1    0052211       Level 1   \n",
       "1   Service Type 1   Group 1    0052211       Level 1   \n",
       "2   Service Type 1   Group 1    0052211       Level 2   \n",
       "3   Service Type 1   Group 1    0052211       Level 2   \n",
       "4   Service Type 1   Group 1    0052211       Level 2   \n",
       "5   Service Type 1   Group 3   00522110       Level 3   \n",
       "6   Service Type 1   Group 3   00522110       Level 3   \n",
       "7   Service Type 1   Group 3   00522110       Level 3   \n",
       "8   Service Type 1   Group 3   00522110       Level 3   \n",
       "9   Service Type 1   Group 1   00522144       Level 2   \n",
       "10  Service Type 1   Group 1   00522144       Level 2   \n",
       "11  Service Type 1   Group 1   00522144       Level 2   \n",
       "12  Service Type 1   Group 1   00522144       Level 2   \n",
       "13  Service Type 1   Group 1   00522144       Level 2   \n",
       "14  Service Type 1   Group 1   00522192       Level 2   \n",
       "15  Service Type 1   Group 1   00522192       Level 2   \n",
       "16  Service Type 1   Group 1   00522192       Level 2   \n",
       "17  Service Type 1   Group 1   00522192       Level 2   \n",
       "18  Service Type 1   Group 1   00522192       Level 2   \n",
       "19  Service Type 1   Group 1  005221239       Level 2   \n",
       "\n",
       "                       concept:name    service responsible_department  \\\n",
       "0                   Assign priority  Service 1           Department 1   \n",
       "1                   Begin resolving  Service 1           Department 1   \n",
       "2                   Begin resolving  Service 1           Department 1   \n",
       "3   Notify citizen about resolution  Service 1           Department 1   \n",
       "4                   Archive request  Service 1           Department 1   \n",
       "5                   Assign priority  Service 3           Department 2   \n",
       "6                   Begin resolving  Service 3           Department 2   \n",
       "7   Notify citizen about resolution  Service 3           Department 2   \n",
       "8                   Archive request  Service 3           Department 2   \n",
       "9                   Assign priority  Service 1           Department 1   \n",
       "10                  Begin resolving  Service 1           Department 1   \n",
       "11                         Escalate  Service 1           Department 1   \n",
       "12  Notify citizen about resolution  Service 1           Department 1   \n",
       "13                  Archive request  Service 1           Department 1   \n",
       "14                  Assign priority  Service 3           Department 4   \n",
       "15                  Assign priority  Service 3           Department 4   \n",
       "16                  Begin resolving  Service 3           Department 4   \n",
       "17  Notify citizen about resolution  Service 3           Department 4   \n",
       "18                  Archive request  Service 3           Department 4   \n",
       "19                  Assign priority  Service 2           Department 1   \n",
       "\n",
       "              time:timestamp lifecycle:transition case:concept:name  @@index  \\\n",
       "0  2012-10-09 12:50:17+00:00             complete            Case 1        0   \n",
       "1  2012-10-09 12:51:01+00:00             complete            Case 1        1   \n",
       "2  2012-10-12 13:02:56+00:00             complete            Case 1        2   \n",
       "3  2012-10-25 09:54:26+00:00             complete            Case 1        3   \n",
       "4  2012-11-09 11:54:39+00:00             complete            Case 1        4   \n",
       "5  2010-02-10 07:50:20+00:00             complete           Case 10        5   \n",
       "6  2010-03-19 07:47:06+00:00             complete           Case 10        6   \n",
       "7  2010-03-19 07:47:13+00:00             complete           Case 10        7   \n",
       "8  2010-04-03 05:47:38+00:00             complete           Case 10        8   \n",
       "9  2013-04-12 08:25:17+00:00             complete          Case 100        9   \n",
       "10 2013-04-24 08:24:01+00:00             complete          Case 100       10   \n",
       "11 2013-04-24 13:51:11+00:00             complete          Case 100       11   \n",
       "12 2013-05-15 11:21:00+00:00             complete          Case 100       12   \n",
       "13 2013-05-30 11:21:20+00:00             complete          Case 100       13   \n",
       "14 2010-01-21 07:53:28+00:00             complete         Case 1000       14   \n",
       "15 2010-01-21 07:53:34+00:00             complete         Case 1000       15   \n",
       "16 2010-01-21 07:53:40+00:00             complete         Case 1000       16   \n",
       "17 2010-01-26 13:06:53+00:00             complete         Case 1000       17   \n",
       "18 2010-03-06 08:00:57+00:00             complete         Case 1000       18   \n",
       "19 2013-03-08 16:01:24+00:00             complete         Case 1001       19   \n",
       "\n",
       "    @@case_index  \n",
       "0              0  \n",
       "1              0  \n",
       "2              0  \n",
       "3              0  \n",
       "4              0  \n",
       "5              1  \n",
       "6              1  \n",
       "7              1  \n",
       "8              1  \n",
       "9              2  \n",
       "10             2  \n",
       "11             2  \n",
       "12             2  \n",
       "13             2  \n",
       "14             3  \n",
       "15             3  \n",
       "16             3  \n",
       "17             3  \n",
       "18             3  \n",
       "19             4  "
      ]
     },
     "execution_count": 10,
     "metadata": {},
     "output_type": "execute_result"
    }
   ],
   "source": [
    "# YOUR CODE HERE\n",
    "sa_log = pm4py.read_xes('datasets/q3_event_log_pt2.xes')\n",
    "sa_log = pm4py.format_dataframe(sa_log)\n",
    "\n",
    "sa_event_count=len(sa_log)\n",
    "sa_case_count=len(sa_log['case:concept:name'].unique())\n",
    "print('Number of events: ',sa_event_count)\n",
    "print('Number of cases: ',sa_case_count)\n",
    "\n",
    "sa_log.head(20)"
   ]
  },
  {
   "cell_type": "markdown",
   "id": "16bb0b13a73f0770",
   "metadata": {
    "collapsed": false,
    "deletable": false,
    "editable": false,
    "jupyter": {
     "outputs_hidden": false
    },
    "nbgrader": {
     "cell_type": "markdown",
     "checksum": "9acd945a62270ef1a72320d9a2891846",
     "grade": false,
     "grade_id": "cell-9455d4bae7c184ae",
     "locked": true,
     "schema_version": 3,
     "solution": false,
     "task": false
    }
   },
   "source": [
    "#### b)\n",
    "First, look at the individual variants in the log. \n",
    "Create an overview of trace variants in the event log as a dictionary called `sa_variants`. \n",
    "Each entry should contain the following: \n",
    "* Key: A tuple of activity names representing the trace variant,\n",
    "* Value: The number of occurrences of this variant in the log. \n",
    "\n",
    "Additionally, answer the following questions and indicate their answers in the variables as described below:\n",
    "* `start_activities`: What is the set of start activity names found in the log?\n",
    "* `end_activities`: What is the set of end activity names found in the log?\n",
    "* `sa_variant_count`: How many trace variants does the event log contain?"
   ]
  },
  {
   "cell_type": "code",
   "execution_count": 11,
   "id": "7e82510071c668e4",
   "metadata": {
    "ExecuteTime": {
     "end_time": "2023-12-18T07:19:30.021091Z",
     "start_time": "2023-12-18T07:19:29.981115700Z"
    },
    "deletable": false,
    "jupyter": {
     "outputs_hidden": false
    },
    "nbgrader": {
     "cell_type": "code",
     "checksum": "b7eb249276d88fda509192feaa31e1a9",
     "grade": true,
     "grade_id": "cell-a3f5f6e99048511c",
     "locked": false,
     "points": 1,
     "schema_version": 3,
     "solution": true,
     "task": false
    }
   },
   "outputs": [
    {
     "name": "stdout",
     "output_type": "stream",
     "text": [
      "Set of start activities:  {'Assign priority': 4384, 'Begin anomaly investigation of provided data': 1, 'Begin resolving': 74, 'Inquire further information form other municipality': 1, 'Insert request': 118, 'Notify citizen about resolution': 2}\n",
      "Set of end activities:  {'Archive request': 4556, 'Begin resolving': 1, 'Escalate': 3, 'Inquire further information form other municipality': 8, 'Notify citizen about resolution': 10, 'Verify provided data': 1}\n",
      "Number of trace variants:  55\n"
     ]
    }
   ],
   "source": [
    "# YOUR CODE HERE\n",
    "sa_variants, start_activities, end_activities = pm4py.discover_dfg_typed(sa_log)\n",
    "sa_variant_count=len(sa_variants)\n",
    "\n",
    "print(\"Set of start activities: \",start_activities)\n",
    "print(\"Set of end activities: \",end_activities)\n",
    "print(\"Number of trace variants: \",sa_variant_count)"
   ]
  },
  {
   "cell_type": "markdown",
   "id": "6155fb8d19f7e666",
   "metadata": {
    "collapsed": false,
    "deletable": false,
    "editable": false,
    "jupyter": {
     "outputs_hidden": false
    },
    "nbgrader": {
     "cell_type": "markdown",
     "checksum": "45cf820d85e2bc6cc0454a7af35a9fdd",
     "grade": false,
     "grade_id": "cell-07f71a36152bba67",
     "locked": true,
     "schema_version": 3,
     "solution": false,
     "task": false
    }
   },
   "source": [
    "#### d)\n",
    "You notice that more than half of the activities in the log are either start or end activities and take this as an indicator for noisy data.\n",
    "Create a new filtered event log `log_archived_frequent`, which only contains variants containing at least 2% of cases in log and in which the request and resolution are archived. \n",
    "How many variants does this log contain? Display your answer and store it in `variants_archived_frequent_count`. How many cases does this sub-log contain (`cases_archived_frequent_count`)? "
   ]
  },
  {
   "cell_type": "code",
   "execution_count": 12,
   "id": "874a71ea94fbe789",
   "metadata": {
    "ExecuteTime": {
     "end_time": "2023-12-18T07:21:13.587823200Z",
     "start_time": "2023-12-18T07:21:13.199268Z"
    },
    "deletable": false,
    "jupyter": {
     "outputs_hidden": false
    },
    "nbgrader": {
     "cell_type": "code",
     "checksum": "28fa07977ae75b941e1d2ee1369cebbc",
     "grade": true,
     "grade_id": "cell-c6e29897d3d083ed",
     "locked": false,
     "points": 1,
     "schema_version": 3,
     "solution": true,
     "task": false
    }
   },
   "outputs": [
    {
     "name": "stdout",
     "output_type": "stream",
     "text": [
      "Number archived variants:  6\n",
      "Number archived cases:  15694\n"
     ]
    }
   ],
   "source": [
    "# YOUR CODE HERE\n",
    "perc = 0.02\n",
    "filtered_log = pm4py.filter_variants_by_coverage_percentage(log=sa_log, min_coverage_percentage=perc,activity_key='concept:name')\n",
    "log_archived_frequent = pm4py.filter_event_attribute_values(filtered_log,\"concept:name\",[\"Archive request\",\"File resolution\"],level=\"case\",retain=True)\n",
    "log_archived_frequent\n",
    "variants_archived_frequent_count=len(pm4py.get_variants(log_archived_frequent))\n",
    "cases_archived_frequent_count=len(log_archived_frequent[\"case:concept:name\"])\n",
    "print(\"Number archived variants: \", variants_archived_frequent_count)\n",
    "print(\"Number archived cases: \",cases_archived_frequent_count)"
   ]
  },
  {
   "cell_type": "markdown",
   "id": "6b4d84da30722e82",
   "metadata": {
    "collapsed": false,
    "deletable": false,
    "editable": false,
    "jupyter": {
     "outputs_hidden": false
    },
    "nbgrader": {
     "cell_type": "markdown",
     "checksum": "5e29fbea258e1c980b1128d344beea23",
     "grade": false,
     "grade_id": "cell-13f26a400772959e",
     "locked": true,
     "schema_version": 3,
     "solution": false,
     "task": false
    }
   },
   "source": [
    "#### e)\n",
    "Use the Inductive Miner to discover a Petri net from this event log annotated with frequencies and display it. How often are citizens informed twice about the resolution of their request?"
   ]
  },
  {
   "cell_type": "code",
   "execution_count": 26,
   "id": "e5d2e191a1cd7ab2",
   "metadata": {
    "ExecuteTime": {
     "end_time": "2023-12-18T07:53:35.584209800Z",
     "start_time": "2023-12-18T07:53:32.528996100Z"
    },
    "deletable": false,
    "jupyter": {
     "outputs_hidden": false
    },
    "nbgrader": {
     "cell_type": "code",
     "checksum": "af3ec645f2979813101dd0a6b8a6e278",
     "grade": true,
     "grade_id": "cell-71abb659dd7ac365",
     "locked": false,
     "points": 1,
     "schema_version": 3,
     "solution": true,
     "task": false
    }
   },
   "outputs": [
    {
     "data": {
      "application/vnd.jupyter.widget-view+json": {
       "model_id": "e41e5e5d501a4b49b3bb6c00bcaf6bbe",
       "version_major": 2,
       "version_minor": 0
      },
      "text/plain": [
       "replaying log with TBR, completed variants ::   0%|          | 0/6 [00:00<?, ?it/s]"
      ]
     },
     "metadata": {},
     "output_type": "display_data"
    },
    {
     "data": {
      "image/png": "[encoded data removed]",
      "text/plain": [
       "<IPython.core.display.Image object>"
      ]
     },
     "metadata": {},
     "output_type": "display_data"
    }
   ],
   "source": [
    "# YOUR CODE HERE\n",
    "petri,marker1,marker2 = pm4py.discover_petri_net_inductive(log_archived_frequent)\n",
    "\n",
    "from pm4py.algo.discovery.inductive import algorithm as inductive_miner\n",
    "from pm4py.visualization.petri_net import visualizer as pn_visualize\n",
    "from pm4py.statistics.traces.generic.pandas import case_statistics\n",
    "\n",
    "parameters = {pn_visualize.Variants.FREQUENCY.value.Parameters.FORMAT: \"png\"}\n",
    "gviz = pn_visualize.apply(petri, marker1, marker2, parameters=parameters, variant=pn_visualize.Variants.FREQUENCY, log=log_archived_frequent)\n",
    "pn_visualize.view(gviz)\n",
    "\n"
   ]
  },
  {
   "cell_type": "code",
   "execution_count": 27,
   "id": "b8ceaa31",
   "metadata": {},
   "outputs": [
    {
     "name": "stdout",
     "output_type": "stream",
     "text": [
      "Citizen are notified exactly twice:  109\n"
     ]
    }
   ],
   "source": [
    "informed_twice=0\n",
    "informed_several=0\n",
    "variant_dict=pm4py.get_variants_as_tuples(log_archived_frequent)\n",
    "for variant in variant_dict:\n",
    "    times_notified=0\n",
    "    count=variant_dict[variant]\n",
    "    for event in variant:\n",
    "        if event=='Notify citizen about resolution':\n",
    "            times_notified+=1\n",
    "    if(times_notified==2):\n",
    "        informed_twice+=count\n",
    "    if(times_notified>1):\n",
    "        informed_several+=count\n",
    "print(\"Citizen are notified exactly twice: \",informed_twice)"
   ]
  },
  {
   "cell_type": "markdown",
   "id": "9cc103fd",
   "metadata": {},
   "source": [
    "Citizens are informed twice about the resolution of their request 109 times!"
   ]
  },
  {
   "cell_type": "markdown",
   "id": "6638c71bb86494ad",
   "metadata": {
    "collapsed": false,
    "deletable": false,
    "editable": false,
    "jupyter": {
     "outputs_hidden": false
    },
    "nbgrader": {
     "cell_type": "markdown",
     "checksum": "a2a718982f0f51308b3cc0144cfbeece",
     "grade": false,
     "grade_id": "cell-a4859f05cb875660",
     "locked": true,
     "points": 0,
     "schema_version": 3,
     "solution": false,
     "task": true
    }
   },
   "source": [
    "i) How often are citizens informed several times about the resolution of their request?"
   ]
  },
  {
   "cell_type": "code",
   "execution_count": 28,
   "id": "d1aba8deabe88e2e",
   "metadata": {
    "ExecuteTime": {
     "end_time": "2023-12-18T08:19:25.113993400Z",
     "start_time": "2023-12-18T08:19:25.051819900Z"
    },
    "deletable": false,
    "jupyter": {
     "outputs_hidden": false
    },
    "nbgrader": {
     "cell_type": "code",
     "checksum": "f5a4f5a4e83f55956e7987c342148239",
     "grade": true,
     "grade_id": "cell-551c3ddcb2766940",
     "locked": false,
     "points": 1,
     "schema_version": 3,
     "solution": true,
     "task": false
    }
   },
   "outputs": [
    {
     "name": "stdout",
     "output_type": "stream",
     "text": [
      "Citizen are notified at least twice:  109\n"
     ]
    }
   ],
   "source": [
    "# YOUR CODE HERE\n",
    "\n",
    "print(\"Citizen are notified at least twice: \",informed_several)"
   ]
  },
  {
   "cell_type": "markdown",
   "id": "b1a53cf9620b7563",
   "metadata": {
    "collapsed": false,
    "deletable": false,
    "editable": false,
    "jupyter": {
     "outputs_hidden": false
    },
    "nbgrader": {
     "cell_type": "markdown",
     "checksum": "02097af86532aa5bb1d5d896038f99e2",
     "grade": false,
     "grade_id": "cell-c626c9dc1cfe000e",
     "locked": true,
     "points": 0,
     "schema_version": 3,
     "solution": false,
     "task": true
    }
   },
   "source": [
    "ii) In how many of these cases do you expect the citizens to receive the exact same letter twice? Explain your answer.\n",
    "*Hint: Use the filtered log to answer this question*\n"
   ]
  },
  {
   "cell_type": "code",
   "execution_count": 29,
   "id": "55750949",
   "metadata": {},
   "outputs": [
    {
     "name": "stdout",
     "output_type": "stream",
     "text": [
      "Count of cases with less than 1 min between notification events:  101\n",
      "Count of cases with more than 1 min between notification events:  8\n"
     ]
    }
   ],
   "source": [
    "\n",
    "notify_citizens = filtered_log[filtered_log['concept:name'] == 'Notify citizen about resolution']\n",
    "\n",
    "\n",
    "case_counts = notify_citizens['case:concept:name'].value_counts()\n",
    "\n",
    "multiple_occurrences_case_ids = case_counts[case_counts > 1].index\n",
    "\n",
    "time_diffs = notify_citizens.groupby('case:concept:name')['time:timestamp'].diff()\n",
    "\n",
    "\n",
    "rows_with_time_diff = time_diffs.dropna()\n",
    "\n",
    "\n",
    "\n",
    "count_less_than_1min= (rows_with_time_diff.dt.total_seconds() < 60).sum()\n",
    "count_more_than_1min= (rows_with_time_diff.dt.total_seconds() > 60).sum()\n",
    "\n",
    "print(\"Count of cases with less than 1 min between notification events: \",count_less_than_1min)\n",
    "print(\"Count of cases with more than 1 min between notification events: \",count_more_than_1min)\n"
   ]
  },
  {
   "cell_type": "markdown",
   "id": "e81ee69457b5090d",
   "metadata": {
    "collapsed": false,
    "deletable": false,
    "jupyter": {
     "outputs_hidden": false
    },
    "nbgrader": {
     "cell_type": "markdown",
     "checksum": "98435e562529781a613553fbdecff326",
     "grade": true,
     "grade_id": "cell-efd4fec8297d9140",
     "locked": false,
     "points": 0.5,
     "schema_version": 3,
     "solution": true,
     "task": false
    }
   },
   "source": [
    "__Student Answer:__ Likely the citizen notifications with more than one minute delay contain changes."
   ]
  },
  {
   "cell_type": "markdown",
   "id": "7b207abc4059497",
   "metadata": {
    "collapsed": false,
    "deletable": false,
    "editable": false,
    "jupyter": {
     "outputs_hidden": false
    },
    "nbgrader": {
     "cell_type": "markdown",
     "checksum": "a9c1906daf04ce38bb5f2165990eb667",
     "grade": false,
     "grade_id": "cell-bc81829a5f026ea3",
     "locked": true,
     "schema_version": 3,
     "solution": false,
     "task": false
    }
   },
   "source": [
    "#### g)\n",
    "Assess how well this model represents all traces in the log. Compute the token-based replay fitness on the event log `sa_log`. \n",
    "Store the log's fitness in a variable called `log_fitness` and display the value."
   ]
  },
  {
   "cell_type": "code",
   "execution_count": 30,
   "id": "529580a19e405d9",
   "metadata": {
    "ExecuteTime": {
     "end_time": "2023-12-18T07:25:52.630284200Z",
     "start_time": "2023-12-18T07:25:52.372636Z"
    },
    "deletable": false,
    "jupyter": {
     "outputs_hidden": false
    },
    "nbgrader": {
     "cell_type": "code",
     "checksum": "6908466ef5b00cd7dbb20570d036b373",
     "grade": true,
     "grade_id": "cell-5c921dec19565246",
     "locked": false,
     "points": 0.5,
     "schema_version": 3,
     "solution": true,
     "task": false
    }
   },
   "outputs": [
    {
     "data": {
      "application/vnd.jupyter.widget-view+json": {
       "model_id": "448f4e0a56b94faea775c1a9f5cafc17",
       "version_major": 2,
       "version_minor": 0
      },
      "text/plain": [
       "replaying log with TBR, completed variants ::   0%|          | 0/226 [00:00<?, ?it/s]"
      ]
     },
     "metadata": {},
     "output_type": "display_data"
    },
    {
     "data": {
      "text/plain": [
       "{'perc_fit_traces': 91.15720524017468,\n",
       " 'average_trace_fitness': 0.9907646120826864,\n",
       " 'log_fitness': 0.9915235038701151,\n",
       " 'percentage_of_fitting_traces': 91.15720524017468}"
      ]
     },
     "metadata": {},
     "output_type": "display_data"
    }
   ],
   "source": [
    "# YOUR CODE HERE\n",
    "log_fitness =  pm4py.fitness_token_based_replay(log=sa_log, petri_net=petri, initial_marking=marker1, final_marking=marker2)\n",
    "display(log_fitness)\n",
    "\n"
   ]
  },
  {
   "cell_type": "markdown",
   "id": "dab9d352f1be925e",
   "metadata": {
    "collapsed": false,
    "deletable": false,
    "editable": false,
    "jupyter": {
     "outputs_hidden": false
    },
    "nbgrader": {
     "cell_type": "markdown",
     "checksum": "4d6ae1e65c7d69ccfc1d2b8ab6149de2",
     "grade": false,
     "grade_id": "cell-2b4255808d81063a",
     "locked": true,
     "schema_version": 3,
     "solution": false,
     "task": false
    }
   },
   "source": [
    "#### h)\n",
    "Before being contempt with the achieved fitness, you want to consider how the fitness is distributed over the individual traces.\n",
    "\n",
    "i. Create a histogram of the token-based replay fitness given the individual diagnostics of all traces and use the provided `bins`.\n",
    "Save the diagnostics of the replay in a variable called `replayed_traces`."
   ]
  },
  {
   "cell_type": "code",
   "execution_count": 35,
   "id": "effbe9161ff8edd",
   "metadata": {
    "ExecuteTime": {
     "end_time": "2023-12-18T07:26:04.829739300Z",
     "start_time": "2023-12-18T07:26:04.154391800Z"
    },
    "deletable": false,
    "jupyter": {
     "outputs_hidden": false
    },
    "nbgrader": {
     "cell_type": "code",
     "checksum": "34b0338dbfc53611c3769627dd021e7c",
     "grade": true,
     "grade_id": "cell-1fc1b8889dd20776",
     "locked": false,
     "points": 2,
     "schema_version": 3,
     "solution": true,
     "task": false
    }
   },
   "outputs": [
    {
     "data": {
      "application/vnd.jupyter.widget-view+json": {
       "model_id": "51af4313d56d435b8ad1332a39c5cc63",
       "version_major": 2,
       "version_minor": 0
      },
      "text/plain": [
       "replaying log with TBR, completed variants ::   0%|          | 0/226 [00:00<?, ?it/s]"
      ]
     },
     "metadata": {},
     "output_type": "display_data"
    },
    {
     "data": {
      "text/plain": [
       "<matplotlib.patches.StepPatch at 0x20c4d2059a0>"
      ]
     },
     "execution_count": 35,
     "metadata": {},
     "output_type": "execute_result"
    },
    {
     "data": {
      "image/png": "[encoded data removed]",
      "text/plain": [
       "<Figure size 432x288 with 1 Axes>"
      ]
     },
     "metadata": {
      "needs_background": "light"
     },
     "output_type": "display_data"
    }
   ],
   "source": [
    "bins = np.arange(0, 1.02, 0.02)\n",
    "# YOUR CODE HERE\n",
    "replayed_traces =  pm4py.conformance_diagnostics_token_based_replay(log=sa_log, petri_net=petri, initial_marking=marker1, final_marking=marker2)\n",
    "\n",
    "hist, bin_edges = np.histogram([t['trace_fitness'] for t in replayed_traces], bins=bins, density=True)\n",
    "plt.stairs(hist, bin_edges, fill=True)"
   ]
  },
  {
   "cell_type": "markdown",
   "id": "058acbff-0e96-4c66-8099-5ed37a8718f3",
   "metadata": {
    "deletable": false,
    "editable": false,
    "nbgrader": {
     "cell_type": "markdown",
     "checksum": "c12ed3aab669abb8e51c61b5606c6e99",
     "grade": false,
     "grade_id": "cell-43a25b401b3837e6",
     "locked": true,
     "schema_version": 3,
     "solution": false,
     "task": false
    }
   },
   "source": [
    "ii. How high is the percentage of traces with full fitness? Save you answer in a variable called `percentage_traces_full_fitness`."
   ]
  },
  {
   "cell_type": "code",
   "execution_count": 45,
   "id": "85c24969-133a-4428-b3b3-82144acd3451",
   "metadata": {
    "ExecuteTime": {
     "end_time": "2023-12-18T07:26:16.834898Z",
     "start_time": "2023-12-18T07:26:16.572876500Z"
    },
    "deletable": false,
    "nbgrader": {
     "cell_type": "code",
     "checksum": "40c1b52574fa6fe3dbf2089ae0534603",
     "grade": false,
     "grade_id": "cell-d9d80344de7b7982",
     "locked": false,
     "schema_version": 3,
     "solution": true,
     "task": false
    }
   },
   "outputs": [
    {
     "name": "stdout",
     "output_type": "stream",
     "text": [
      "Percentage of full fitness traces is 97.82608695652173 %\n"
     ]
    }
   ],
   "source": [
    "# YOUR CODE HERE\n",
    "hist_as_list=[int(h) for h in hist]\n",
    "percentage_traces_full_fitness=hist_as_list[-1]/sum(hist_as_list)*100\n",
    "print(\"Percentage of full fitness traces is\",percentage_traces_full_fitness,\"%\")"
   ]
  },
  {
   "cell_type": "code",
   "execution_count": null,
   "id": "73114677689d726c",
   "metadata": {
    "ExecuteTime": {
     "end_time": "2023-12-18T07:26:40.912741400Z",
     "start_time": "2023-12-18T07:26:40.645318100Z"
    },
    "deletable": false,
    "editable": false,
    "jupyter": {
     "outputs_hidden": false
    },
    "nbgrader": {
     "cell_type": "code",
     "checksum": "d6f83a7dd2f983fb458a794240b048c3",
     "grade": true,
     "grade_id": "cell-06b88be47e8cc863",
     "locked": true,
     "points": 0.5,
     "schema_version": 3,
     "solution": false,
     "task": false
    }
   },
   "outputs": [],
   "source": []
  },
  {
   "cell_type": "markdown",
   "id": "e63db4bed09ddcb0",
   "metadata": {
    "collapsed": false,
    "deletable": false,
    "editable": false,
    "jupyter": {
     "outputs_hidden": false
    },
    "nbgrader": {
     "cell_type": "markdown",
     "checksum": "50f89c6428e2dbf866deb468814a2f33",
     "grade": false,
     "grade_id": "cell-8e51dc661103474d",
     "locked": true,
     "schema_version": 3,
     "solution": false,
     "task": false
    }
   },
   "source": [
    "#### i) (4 points) \n",
    "Processing speed is always an issue for municipalities. \n",
    "Compute the average throughput time in days of all variants in \"log_archived_frequent\" in a dictionary called `average_throughput`.\n",
    "Each entry uses the variant as key and the average throughput time as value. \n",
    "Which trace variant is the fastest (store the entry describing this variant in a variable called `fastest_variant`)? \n",
    "Respectively, which is the slowest (store its entry in `slowest_variant`)?"
   ]
  },
  {
   "cell_type": "code",
   "execution_count": 66,
   "id": "6fa38ce70409fea9",
   "metadata": {
    "ExecuteTime": {
     "end_time": "2023-12-18T07:29:52.107381Z",
     "start_time": "2023-12-18T07:29:51.139898200Z"
    },
    "deletable": false,
    "jupyter": {
     "outputs_hidden": false
    },
    "nbgrader": {
     "cell_type": "code",
     "checksum": "31b06ae410893db9375c374b5b4acf00",
     "grade": true,
     "grade_id": "cell-8a29fd368260b962",
     "locked": false,
     "points": 3,
     "schema_version": 3,
     "solution": true,
     "task": false
    }
   },
   "outputs": [],
   "source": [
    "# YOUR CODE HERE\n",
    "variants_duration=pm4py.stats.get_variants_paths_duration(log_archived_frequent,times_agg='mean')\n",
    "variants_duration['@@flow_time']=variants_duration['@@flow_time'].apply(lambda x: x/60/60/24)\n",
    "average_throughput=dict(zip(variants_duration['@@variant_column'],variants_duration['@@flow_time']))\n",
    "\n",
    "fastest_variant=max(average_throughput, key=average_throughput.get)\n",
    "slowest_variant=min(average_throughput, key=average_throughput.get)"
   ]
  }
 ],
 "metadata": {
  "kernelspec": {
   "display_name": "Python 3 (ipykernel)",
   "language": "python",
   "name": "python3"
  },
  "language_info": {
   "codemirror_mode": {
    "name": "ipython",
    "version": 3
   },
   "file_extension": ".py",
   "mimetype": "text/x-python",
   "name": "python",
   "nbconvert_exporter": "python",
   "pygments_lexer": "ipython3",
   "version": "3.9.18"
  }
 },
 "nbformat": 4,
 "nbformat_minor": 5
}
